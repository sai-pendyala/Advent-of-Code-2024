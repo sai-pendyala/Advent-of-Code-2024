{
 "cells": [
  {
   "cell_type": "code",
   "execution_count": 1,
   "metadata": {
    "id": "beCPm1QB5R9z"
   },
   "outputs": [],
   "source": [
    "SESSION_TOKEN=\"53616c7465645f5f41f7a7b1200308fca2d2ba72fda79b5433224b269226e2d01e5c52af3b54e07c8c1765c603b2633803d7cac35090c984331d1da0d20d6274\""
   ]
  },
  {
   "cell_type": "code",
   "execution_count": 2,
   "metadata": {
    "colab": {
     "base_uri": "https://localhost:8080/"
    },
    "id": "vpHOMnx1loUV",
    "outputId": "b0d6f617-95cc-427b-eac0-a8fafdb62926"
   },
   "outputs": [
    {
     "name": "stdout",
     "output_type": "stream",
     "text": [
      "Requirement already satisfied: requests in /home/codespace/.local/lib/python3.12/site-packages (2.32.3)\n",
      "Collecting python-dotenv\n",
      "  Downloading python_dotenv-1.0.1-py3-none-any.whl.metadata (23 kB)\n",
      "Requirement already satisfied: charset-normalizer<4,>=2 in /home/codespace/.local/lib/python3.12/site-packages (from requests) (3.3.2)\n",
      "Requirement already satisfied: idna<4,>=2.5 in /home/codespace/.local/lib/python3.12/site-packages (from requests) (3.10)\n",
      "Requirement already satisfied: urllib3<3,>=1.21.1 in /home/codespace/.local/lib/python3.12/site-packages (from requests) (2.2.3)\n",
      "Requirement already satisfied: certifi>=2017.4.17 in /home/codespace/.local/lib/python3.12/site-packages (from requests) (2024.8.30)\n",
      "Downloading python_dotenv-1.0.1-py3-none-any.whl (19 kB)\n",
      "Installing collected packages: python-dotenv\n",
      "Successfully installed python-dotenv-1.0.1\n",
      "\n",
      "\u001b[1m[\u001b[0m\u001b[34;49mnotice\u001b[0m\u001b[1;39;49m]\u001b[0m\u001b[39;49m A new release of pip is available: \u001b[0m\u001b[31;49m24.2\u001b[0m\u001b[39;49m -> \u001b[0m\u001b[32;49m24.3.1\u001b[0m\n",
      "\u001b[1m[\u001b[0m\u001b[34;49mnotice\u001b[0m\u001b[1;39;49m]\u001b[0m\u001b[39;49m To update, run: \u001b[0m\u001b[32;49mpython3 -m pip install --upgrade pip\u001b[0m\n"
     ]
    }
   ],
   "source": [
    "!pip install requests python-dotenv"
   ]
  },
  {
   "cell_type": "code",
   "execution_count": 3,
   "metadata": {
    "collapsed": true,
    "id": "ml3DaN5Tt0S5"
   },
   "outputs": [],
   "source": [
    "import requests\n",
    "from pathlib import Path\n",
    "from dotenv import load_dotenv\n",
    "import os\n",
    "\n",
    "# Load environment variables from .env\n",
    "load_dotenv()\n",
    "\n",
    "def fetch_input(day, year, session_token, save_dir=\"inputs\"):\n",
    "    \"\"\"\n",
    "    Fetches input for a specific Advent of Code day and saves it locally.\n",
    "\n",
    "    :param day: The day of the Advent of Code (1-25).\n",
    "    :param year: The Advent of Code year.\n",
    "    :param save_dir: Directory to save the input file.\n",
    "    :return: Path to the input file.\n",
    "    \"\"\"\n",
    "    # session_token = os.getenv(\"SESSION_TOKEN\")\n",
    "    if not session_token:\n",
    "        raise ValueError(\"Session token not found in environment variables.\")\n",
    "\n",
    "    url = f\"https://adventofcode.com/{year}/day/{day}/input\"\n",
    "    headers = {\n",
    "        \"Cookie\": f\"session={session_token}\",\n",
    "        \"User-Agent\": \"https://github.com/sai-pendyala/Advent-of-Code-2024\",\n",
    "    }\n",
    "\n",
    "    # Create the directory if it doesn't exist\n",
    "    Path(save_dir).mkdir(exist_ok=True)\n",
    "    input_file = Path(save_dir) / f\"day{day:02}_input.txt\"\n",
    "\n",
    "    # Fetch input\n",
    "    response = requests.get(url, headers=headers)\n",
    "    if response.status_code == 200:\n",
    "        with open(input_file, \"w\") as f:\n",
    "            f.write(response.text.strip())\n",
    "        print(f\"Input for Day {day} saved to {input_file}\")\n",
    "        return input_file\n",
    "    elif response.status_code == 404:\n",
    "        print(\"Puzzle input is not available yet. Check after the problem is released.\")\n",
    "    else:\n",
    "        print(f\"Failed to fetch input: {response.status_code}\")\n",
    "    return None"
   ]
  },
  {
   "cell_type": "code",
   "execution_count": 4,
   "metadata": {
    "id": "OTkqAp8r45yG"
   },
   "outputs": [],
   "source": [
    "def read_input(day, save_dir=\"inputs\"):\n",
    "    \"\"\"\n",
    "    Reads the content of the input file for a specific day of Advent of Code.\n",
    "\n",
    "    :param day: The day of the Advent of Code (1-25).\n",
    "    :param save_dir: Directory where the input file is saved (default is 'inputs').\n",
    "    :return: Content of the input file as a string.\n",
    "    \"\"\"\n",
    "    input_file = Path(save_dir) / f\"day{day:02}_input.txt\"\n",
    "\n",
    "    if input_file.exists():\n",
    "        with open(input_file, \"r\") as file:\n",
    "            content = file.read().strip()  # Read and strip any surrounding whitespace\n",
    "        print(f\"Content of Day {day} input:\\n{content}\")\n",
    "        return content\n",
    "    else:\n",
    "        print(f\"Input file for Day {day} does not exist. Please fetch the input first.\")\n",
    "        return None"
   ]
  },
  {
   "cell_type": "code",
   "execution_count": null,
   "metadata": {
    "id": "5gX55kIC5HzR"
   },
   "outputs": [],
   "source": [
    "# Daily Workflow\n",
    "from pathlib import Path\n",
    "from datetime import datetime\n",
    "\n",
    "# Dynamic Day and Year\n",
    "now = datetime.utcnow()\n",
    "DAY = now.day\n",
    "YEAR = now.year\n",
    "\n",
    "# Fetch input\n",
    "fetch_input(DAY, YEAR, SESSION_TOKEN)\n",
    "\n",
    "# Read input\n",
    "input_data = read_input(DAY)"
   ]
  },
  {
   "cell_type": "markdown",
   "metadata": {
    "id": "Ym4xybQYqf1U"
   },
   "source": [
    "# Day 1"
   ]
  },
  {
   "cell_type": "code",
   "execution_count": 7,
   "metadata": {
    "id": "2AfeWkFMpfJ3"
   },
   "outputs": [],
   "source": [
    "lefts = []\n",
    "rights = []\n",
    "for line in input_data.split(\"\\n\"):\n",
    "  left, right = line.strip().split()\n",
    "  lefts.append(int(left))\n",
    "  rights.append(int(right))"
   ]
  },
  {
   "cell_type": "code",
   "execution_count": 8,
   "metadata": {
    "colab": {
     "base_uri": "https://localhost:8080/"
    },
    "id": "bix4DhJUluRm",
    "outputId": "425a4222-2089-4784-98bb-d9bbb06cd22b"
   },
   "outputs": [
    {
     "data": {
      "text/plain": [
       "1889772"
      ]
     },
     "execution_count": 8,
     "metadata": {},
     "output_type": "execute_result"
    }
   ],
   "source": [
    "def get_total_distance(lefts, rights):\n",
    "  total_distance = 0\n",
    "  for left, right in zip(lefts, rights):\n",
    "    total_distance += abs(left - right)\n",
    "  return total_distance\n",
    "\n",
    "get_total_distance(sorted(lefts), sorted(rights))"
   ]
  },
  {
   "cell_type": "code",
   "execution_count": 9,
   "metadata": {
    "colab": {
     "base_uri": "https://localhost:8080/"
    },
    "id": "fK4_Wa6mnYjP",
    "outputId": "84ea1162-aea3-4dee-c5f7-5e9f1569179f"
   },
   "outputs": [
    {
     "data": {
      "text/plain": [
       "23228917"
      ]
     },
     "execution_count": 9,
     "metadata": {},
     "output_type": "execute_result"
    }
   ],
   "source": [
    "def get_similarity_score(lefts, rights):\n",
    "  from collections import Counter\n",
    "  similarity = 0\n",
    "  right_counts = Counter(rights)\n",
    "  for left in lefts:\n",
    "    if left in right_counts:\n",
    "      similarity += left * right_counts[left]\n",
    "  return similarity\n",
    "\n",
    "get_similarity_score(lefts, rights)"
   ]
  },
  {
   "cell_type": "code",
   "execution_count": null,
   "metadata": {
    "id": "jXGnFOMmqmtm"
   },
   "outputs": [],
   "source": []
  }
 ],
 "metadata": {
  "colab": {
   "authorship_tag": "ABX9TyOzlSBGVhe+TBgADJkskLED",
   "provenance": []
  },
  "kernelspec": {
   "display_name": "Python 3",
   "name": "python3"
  },
  "language_info": {
   "codemirror_mode": {
    "name": "ipython",
    "version": 3
   },
   "file_extension": ".py",
   "mimetype": "text/x-python",
   "name": "python",
   "nbconvert_exporter": "python",
   "pygments_lexer": "ipython3",
   "version": "3.12.1"
  }
 },
 "nbformat": 4,
 "nbformat_minor": 0
}
