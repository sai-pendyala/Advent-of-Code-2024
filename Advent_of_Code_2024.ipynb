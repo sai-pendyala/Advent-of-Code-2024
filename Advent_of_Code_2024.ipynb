{
  "nbformat": 4,
  "nbformat_minor": 0,
  "metadata": {
    "colab": {
      "provenance": [],
      "authorship_tag": "ABX9TyOzlSBGVhe+TBgADJkskLED"
    },
    "kernelspec": {
      "name": "python3",
      "display_name": "Python 3"
    },
    "language_info": {
      "name": "python"
    }
  },
  "cells": [
    {
      "cell_type": "code",
      "source": [
        "SESSION_TOKEN=\"53616c7465645f5f41f7a7b1200308fca2d2ba72fda79b5433224b269226e2d01e5c52af3b54e07c8c1765c603b2633803d7cac35090c984331d1da0d20d6274\""
      ],
      "metadata": {
        "id": "beCPm1QB5R9z"
      },
      "execution_count": null,
      "outputs": []
    },
    {
      "cell_type": "code",
      "source": [
        "!pip install requests python-dotenv"
      ],
      "metadata": {
        "colab": {
          "base_uri": "https://localhost:8080/"
        },
        "id": "vpHOMnx1loUV",
        "outputId": "b0d6f617-95cc-427b-eac0-a8fafdb62926"
      },
      "execution_count": null,
      "outputs": [
        {
          "output_type": "stream",
          "name": "stdout",
          "text": [
            "Requirement already satisfied: requests in /usr/local/lib/python3.10/dist-packages (2.32.3)\n",
            "Requirement already satisfied: python-dotenv in /usr/local/lib/python3.10/dist-packages (1.0.1)\n",
            "Requirement already satisfied: charset-normalizer<4,>=2 in /usr/local/lib/python3.10/dist-packages (from requests) (3.4.0)\n",
            "Requirement already satisfied: idna<4,>=2.5 in /usr/local/lib/python3.10/dist-packages (from requests) (3.10)\n",
            "Requirement already satisfied: urllib3<3,>=1.21.1 in /usr/local/lib/python3.10/dist-packages (from requests) (2.2.3)\n",
            "Requirement already satisfied: certifi>=2017.4.17 in /usr/local/lib/python3.10/dist-packages (from requests) (2024.8.30)\n"
          ]
        }
      ]
    },
    {
      "cell_type": "code",
      "source": [
        "import requests\n",
        "from pathlib import Path\n",
        "from dotenv import load_dotenv\n",
        "import os\n",
        "\n",
        "# Load environment variables from .env\n",
        "load_dotenv()\n",
        "\n",
        "def fetch_input(day, year, session_token, save_dir=\"inputs\"):\n",
        "    \"\"\"\n",
        "    Fetches input for a specific Advent of Code day and saves it locally.\n",
        "\n",
        "    :param day: The day of the Advent of Code (1-25).\n",
        "    :param year: The Advent of Code year.\n",
        "    :param save_dir: Directory to save the input file.\n",
        "    :return: Path to the input file.\n",
        "    \"\"\"\n",
        "    # session_token = os.getenv(\"SESSION_TOKEN\")\n",
        "    if not session_token:\n",
        "        raise ValueError(\"Session token not found in environment variables.\")\n",
        "\n",
        "    url = f\"https://adventofcode.com/{year}/day/{day}/input\"\n",
        "    headers = {\n",
        "        \"Cookie\": f\"session={session_token}\",\n",
        "        \"User-Agent\": \"https://github.com/sai-pendyala/Advent-of-Code-2024\",\n",
        "    }\n",
        "\n",
        "    # Create the directory if it doesn't exist\n",
        "    Path(save_dir).mkdir(exist_ok=True)\n",
        "    input_file = Path(save_dir) / f\"day{day:02}_input.txt\"\n",
        "\n",
        "    # Fetch input\n",
        "    response = requests.get(url, headers=headers)\n",
        "    if response.status_code == 200:\n",
        "        with open(input_file, \"w\") as f:\n",
        "            f.write(response.text.strip())\n",
        "        print(f\"Input for Day {day} saved to {input_file}\")\n",
        "        return input_file\n",
        "    elif response.status_code == 404:\n",
        "        print(\"Puzzle input is not available yet. Check after the problem is released.\")\n",
        "    else:\n",
        "        print(f\"Failed to fetch input: {response.status_code}\")\n",
        "    return None"
      ],
      "metadata": {
        "collapsed": true,
        "id": "ml3DaN5Tt0S5"
      },
      "execution_count": null,
      "outputs": []
    },
    {
      "cell_type": "code",
      "source": [
        "def read_input(day, save_dir=\"inputs\"):\n",
        "    \"\"\"\n",
        "    Reads the content of the input file for a specific day of Advent of Code.\n",
        "\n",
        "    :param day: The day of the Advent of Code (1-25).\n",
        "    :param save_dir: Directory where the input file is saved (default is 'inputs').\n",
        "    :return: Content of the input file as a string.\n",
        "    \"\"\"\n",
        "    input_file = Path(save_dir) / f\"day{day:02}_input.txt\"\n",
        "\n",
        "    if input_file.exists():\n",
        "        with open(input_file, \"r\") as file:\n",
        "            content = file.read().strip()  # Read and strip any surrounding whitespace\n",
        "        print(f\"Content of Day {day} input:\\n{content}\")\n",
        "        return content\n",
        "    else:\n",
        "        print(f\"Input file for Day {day} does not exist. Please fetch the input first.\")\n",
        "        return None"
      ],
      "metadata": {
        "id": "OTkqAp8r45yG"
      },
      "execution_count": null,
      "outputs": []
    },
    {
      "cell_type": "code",
      "source": [
        "# Daily Workflow\n",
        "from pathlib import Path\n",
        "from datetime import datetime\n",
        "\n",
        "# Dynamic Day and Year\n",
        "now = datetime.utcnow()\n",
        "DAY = now.day\n",
        "YEAR = now.year\n",
        "\n",
        "# Fetch input\n",
        "fetch_input(DAY, YEAR, SESSION_TOKEN)\n",
        "\n",
        "# Read input\n",
        "input_data = read_input(DAY)"
      ],
      "metadata": {
        "id": "5gX55kIC5HzR"
      },
      "execution_count": null,
      "outputs": []
    },
    {
      "cell_type": "markdown",
      "source": [
        "# Day 1"
      ],
      "metadata": {
        "id": "Ym4xybQYqf1U"
      }
    },
    {
      "cell_type": "code",
      "source": [
        "lefts = []\n",
        "rights = []\n",
        "for line in input_data.split(\"\\n\"):\n",
        "  left, right = line.strip().split()\n",
        "  lefts.append(int(left))\n",
        "  rights.append(int(right))"
      ],
      "metadata": {
        "id": "2AfeWkFMpfJ3"
      },
      "execution_count": null,
      "outputs": []
    },
    {
      "cell_type": "code",
      "source": [
        "def get_total_distance(lefts, rights):\n",
        "  total_distance = 0\n",
        "  for left, right in zip(lefts, rights):\n",
        "    total_distance += abs(left - right)\n",
        "  return total_distance\n",
        "\n",
        "get_total_distance(sorted(lefts), sorted(rights))"
      ],
      "metadata": {
        "colab": {
          "base_uri": "https://localhost:8080/"
        },
        "id": "bix4DhJUluRm",
        "outputId": "425a4222-2089-4784-98bb-d9bbb06cd22b"
      },
      "execution_count": null,
      "outputs": [
        {
          "output_type": "execute_result",
          "data": {
            "text/plain": [
              "1889772"
            ]
          },
          "metadata": {},
          "execution_count": 32
        }
      ]
    },
    {
      "cell_type": "code",
      "source": [
        "def get_similarity_score(lefts, rights):\n",
        "  from collections import Counter\n",
        "  similarity = 0\n",
        "  right_counts = Counter(rights)\n",
        "  for left in lefts:\n",
        "    if left in right_counts:\n",
        "      similarity += left * right_counts[left]\n",
        "  return similarity\n",
        "\n",
        "get_similarity_score(lefts, rights)"
      ],
      "metadata": {
        "id": "fK4_Wa6mnYjP",
        "colab": {
          "base_uri": "https://localhost:8080/"
        },
        "outputId": "84ea1162-aea3-4dee-c5f7-5e9f1569179f"
      },
      "execution_count": null,
      "outputs": [
        {
          "output_type": "execute_result",
          "data": {
            "text/plain": [
              "23228917"
            ]
          },
          "metadata": {},
          "execution_count": 33
        }
      ]
    },
    {
      "cell_type": "code",
      "source": [],
      "metadata": {
        "id": "jXGnFOMmqmtm"
      },
      "execution_count": null,
      "outputs": []
    }
  ]
}