{
 "cells": [
  {
   "cell_type": "code",
   "execution_count": null,
   "metadata": {
    "collapsed": true,
    "id": "ml3DaN5Tt0S5"
   },
   "outputs": [],
   "source": [
    "import requests\n",
    "from pathlib import Path\n",
    "import os\n",
    "from dotenv import load_dotenv\n",
    "\n",
    "# Load environment variables from .env file\n",
    "load_dotenv()\n",
    "\n",
    "def fetch_input(day, year, save_dir=\"inputs\"):\n",
    "    \"\"\"\n",
    "    Fetches input for a specific Advent of Code day and saves it locally.\n",
    "\n",
    "    :param day: The day of the Advent of Code (1-25).\n",
    "    :param year: The Advent of Code year.\n",
    "    :param save_dir: Directory to save the input file.\n",
    "    :return: Path to the input file.\n",
    "    \"\"\"\n",
    "    session_token = os.getenv(\"SESSION_TOKEN\")\n",
    "    if not session_token:\n",
    "        raise ValueError(\"Session token not found in environment variables.\")\n",
    "\n",
    "    url = f\"https://adventofcode.com/{year}/day/{day}/input\"\n",
    "    headers = {\n",
    "        \"Cookie\": f\"session={session_token}\",\n",
    "        \"User-Agent\": \"https://github.com/sai-pendyala/Advent-of-Code-2024\",\n",
    "    }\n",
    "\n",
    "    # Create the directory if it doesn't exist\n",
    "    Path(save_dir).mkdir(exist_ok=True)\n",
    "    input_file = Path(save_dir) / f\"day{day:02}_input.txt\"\n",
    "\n",
    "    # Fetch input\n",
    "    response = requests.get(url, headers=headers)\n",
    "    if response.status_code == 200:\n",
    "        with open(input_file, \"w\") as f:\n",
    "            f.write(response.text.strip())\n",
    "        print(f\"Input for Day {day} saved to {input_file}\")\n",
    "        return input_file\n",
    "    elif response.status_code == 404:\n",
    "        print(\"Puzzle input is not available yet. Check after the problem is released.\")\n",
    "    else:\n",
    "        print(f\"Failed to fetch input: {response.status_code}\")\n",
    "    return None"
   ]
  },
  {
   "cell_type": "code",
   "execution_count": null,
   "metadata": {
    "id": "OTkqAp8r45yG"
   },
   "outputs": [],
   "source": [
    "def read_input(day, save_dir=\"inputs\"):\n",
    "    \"\"\"\n",
    "    Reads the content of the input file for a specific day of Advent of Code.\n",
    "\n",
    "    :param day: The day of the Advent of Code (1-25).\n",
    "    :param save_dir: Directory where the input file is saved (default is 'inputs').\n",
    "    :return: Content of the input file as a string.\n",
    "    \"\"\"\n",
    "    input_file = Path(save_dir) / f\"day{day:02}_input.txt\"\n",
    "\n",
    "    if input_file.exists():\n",
    "        with open(input_file, \"r\") as file:\n",
    "            content = file.read().strip()  # Read and strip any surrounding whitespace\n",
    "        print(f\"Content of Day {day} input:\\n{content}\")\n",
    "        return content\n",
    "    else:\n",
    "        print(f\"Input file for Day {day} does not exist. Please fetch the input first.\")\n",
    "        return None"
   ]
  },
  {
   "cell_type": "code",
   "execution_count": null,
   "metadata": {
    "id": "5gX55kIC5HzR"
   },
   "outputs": [],
   "source": [
    "# Daily Workflow\n",
    "from pathlib import Path\n",
    "from datetime import datetime\n",
    "\n",
    "# Dynamic Day and Year\n",
    "now = datetime.utcnow()\n",
    "DAY = now.day\n",
    "YEAR = now.year\n",
    "\n",
    "# Fetch input\n",
    "fetch_input(DAY, YEAR)\n",
    "\n",
    "# Read input\n",
    "input_data = read_input(DAY)"
   ]
  },
  {
   "cell_type": "markdown",
   "metadata": {
    "id": "Ym4xybQYqf1U"
   },
   "source": [
    "# Day 1"
   ]
  },
  {
   "cell_type": "code",
   "execution_count": null,
   "metadata": {
    "id": "2AfeWkFMpfJ3"
   },
   "outputs": [],
   "source": [
    "lefts = []\n",
    "rights = []\n",
    "for line in input_data.split(\"\\n\"):\n",
    "  left, right = line.strip().split()\n",
    "  lefts.append(int(left))\n",
    "  rights.append(int(right))"
   ]
  },
  {
   "cell_type": "code",
   "execution_count": null,
   "metadata": {
    "colab": {
     "base_uri": "https://localhost:8080/"
    },
    "id": "bix4DhJUluRm",
    "outputId": "425a4222-2089-4784-98bb-d9bbb06cd22b"
   },
   "outputs": [],
   "source": [
    "def get_total_distance(lefts, rights):\n",
    "  total_distance = 0\n",
    "  for left, right in zip(lefts, rights):\n",
    "    total_distance += abs(left - right)\n",
    "  return total_distance\n",
    "\n",
    "get_total_distance(sorted(lefts), sorted(rights))"
   ]
  },
  {
   "cell_type": "code",
   "execution_count": null,
   "metadata": {
    "colab": {
     "base_uri": "https://localhost:8080/"
    },
    "id": "fK4_Wa6mnYjP",
    "outputId": "84ea1162-aea3-4dee-c5f7-5e9f1569179f"
   },
   "outputs": [],
   "source": [
    "def get_similarity_score(lefts, rights):\n",
    "  from collections import Counter\n",
    "  similarity = 0\n",
    "  right_counts = Counter(rights)\n",
    "  for left in lefts:\n",
    "    if left in right_counts:\n",
    "      similarity += left * right_counts[left]\n",
    "  return similarity\n",
    "\n",
    "get_similarity_score(lefts, rights)"
   ]
  },
  {
   "cell_type": "markdown",
   "metadata": {},
   "source": [
    "# Day 2"
   ]
  },
  {
   "cell_type": "code",
   "execution_count": null,
   "metadata": {
    "id": "jXGnFOMmqmtm"
   },
   "outputs": [],
   "source": [
    "def is_safe(report):\n",
    "    sign = 1\n",
    "    if report[1] < report[0]:\n",
    "        sign = -1\n",
    "\n",
    "    for i in range(1, len(report)):\n",
    "        diff = report[i] - report[i - 1]\n",
    "        if sign * diff < 0 or not 1 <= abs(diff) <= 3:\n",
    "            return False  \n",
    "    return True"
   ]
  },
  {
   "cell_type": "code",
   "execution_count": null,
   "metadata": {},
   "outputs": [],
   "source": [
    "total_safe = 0\n",
    "for line in input_data.split(\"\\n\"):\n",
    "    check = is_safe(list(map(int, line.split())))\n",
    "    total_safe += check\n",
    "\n",
    "total_safe"
   ]
  },
  {
   "cell_type": "code",
   "execution_count": null,
   "metadata": {},
   "outputs": [],
   "source": [
    "total_safe2 = 0\n",
    "for line in input_data.split(\"\\n\"):\n",
    "    report = list(map(int, line.split()))\n",
    "    for i in range(len(report)):\n",
    "        first_half = report[:i] if i > 0 else []\n",
    "        second_half = report[i + 1:] if i < len(report) - 1 else []\n",
    "        check = is_safe(first_half + second_half)\n",
    "        if check:\n",
    "            total_safe2 += 1\n",
    "            break\n",
    "\n",
    "total_safe2"
   ]
  },
  {
   "cell_type": "markdown",
   "metadata": {},
   "source": [
    "# Day 3"
   ]
  },
  {
   "cell_type": "code",
   "execution_count": null,
   "metadata": {},
   "outputs": [],
   "source": [
    "import re\n",
    "pattern = r\"mul\\(\\d+,\\d+\\)\"\n",
    "matches = re.findall(pattern, input_data)\n",
    "\n",
    "total = 0\n",
    "for match in matches:\n",
    "    num1, num2 = map(int, match.strip(\"mul()\").split(\",\"))\n",
    "    total += num1 * num2\n",
    "total"
   ]
  },
  {
   "cell_type": "code",
   "execution_count": null,
   "metadata": {},
   "outputs": [],
   "source": [
    "import re\n",
    "pattern = r\"mul\\(\\d+,\\d+\\)|do\\(\\)|don't\\(\\)\"\n",
    "matches = re.findall(pattern, input_data)\n",
    "\n",
    "total = 0\n",
    "do = 1\n",
    "for match in matches:\n",
    "    if match == \"do()\":\n",
    "        do = 1\n",
    "    elif match == \"don't()\":\n",
    "        do = 0\n",
    "    else:\n",
    "        num1, num2 = map(int, match.strip(\"mul()\").split(\",\"))\n",
    "        total += num1 * num2 * do\n",
    "total"
   ]
  },
  {
   "cell_type": "markdown",
   "metadata": {},
   "source": [
    "# Day 4"
   ]
  },
  {
   "cell_type": "code",
   "execution_count": null,
   "metadata": {},
   "outputs": [],
   "source": [
    "grid = []\n",
    "for line in input_data.split(\"\\n\"):\n",
    "    grid.append(list(line))\n",
    "m, n = len(grid), len(grid[0])"
   ]
  },
  {
   "cell_type": "code",
   "execution_count": null,
   "metadata": {},
   "outputs": [],
   "source": [
    "def dfs(curr, x, y, dx, dy):\n",
    "    if curr == \"XMAS\":\n",
    "        return 1\n",
    "    if not (0 <= x < m and 0 <= y < n):\n",
    "        return 0\n",
    "    if len(curr) > 4:\n",
    "        return 0\n",
    "    curr += grid[x][y]\n",
    "    return dfs(curr, x + dx, y + dy, dx, dy)"
   ]
  },
  {
   "cell_type": "code",
   "execution_count": null,
   "metadata": {},
   "outputs": [],
   "source": [
    "result = 0\n",
    "for i in range(m):\n",
    "    for j in range(n):\n",
    "        if grid[i][j] == \"X\":\n",
    "            for di, dj in [(-1, 0), (0, 1), (1, 0), (0, -1), (-1, 1), (1, 1), (1, -1), (-1, -1)]:\n",
    "                result += dfs(\"\", i, j, di, dj)\n",
    "\n",
    "result"
   ]
  },
  {
   "cell_type": "code",
   "execution_count": null,
   "metadata": {},
   "outputs": [],
   "source": [
    "result = 0\n",
    "patterns = [\"MAS\", \"SAM\"]\n",
    "for i in range(1, m - 1):\n",
    "    for j in range(1, n - 1):\n",
    "        if grid[i][j] == \"A\":\n",
    "            diagonal1 = grid[i - 1][j - 1] + grid[i][j] + grid[i + 1][j + 1]\n",
    "            diagonal2 = grid[i + 1][j - 1] + grid[i][j] + grid[i - 1][j + 1]\n",
    "            # print(i, j, diagonal1, diagonal2)\n",
    "            if diagonal1 in patterns and diagonal2 in patterns:\n",
    "                result += 1\n",
    "result"
   ]
  },
  {
   "cell_type": "markdown",
   "metadata": {},
   "source": [
    "# Day 5"
   ]
  },
  {
   "cell_type": "code",
   "execution_count": null,
   "metadata": {},
   "outputs": [],
   "source": [
    "def get_right_order(graph, degree):\n",
    "    from collections import deque\n",
    "    q = deque()\n",
    "    for u, d in degree.items():\n",
    "        if d == 0:\n",
    "            q.append(u)\n",
    "    right_order = []\n",
    "    while q:\n",
    "        node = q.popleft()\n",
    "        right_order.append(node)\n",
    "        for v in graph[node]:\n",
    "            degree[v] -= 1\n",
    "            if degree[v] == 0:\n",
    "                q.append(v)\n",
    "                \n",
    "    return right_order"
   ]
  },
  {
   "cell_type": "code",
   "execution_count": null,
   "metadata": {},
   "outputs": [],
   "source": [
    "from collections import defaultdict\n",
    "\n",
    "rules = defaultdict(set)\n",
    "updates = []\n",
    "\n",
    "for line in input_data.split(\"\\n\"):\n",
    "    if line == '':\n",
    "        continue \n",
    "    if '|' in line:\n",
    "        u, v = line.split('|')\n",
    "        rules[u].add(v)\n",
    "    else:\n",
    "        updates.append(line.split(','))\n",
    "\n",
    "print(rules, updates)"
   ]
  },
  {
   "cell_type": "code",
   "execution_count": null,
   "metadata": {},
   "outputs": [],
   "source": [
    "result1 = 0\n",
    "result2 = 0\n",
    "for update in updates:\n",
    "    degree = {u: 0 for u in update} \n",
    "    graph = defaultdict(set)\n",
    "\n",
    "    for u in update:\n",
    "        graph[u] = rules[u] & set(update)\n",
    "        for v in graph[u]:\n",
    "            degree[v] += 1\n",
    "    right_order = get_right_order(graph, degree)\n",
    "    if right_order == update:\n",
    "        result1 += int(right_order[(len(update) - 1) // 2])\n",
    "    else:\n",
    "        result2 += int(right_order[(len(update) - 1) // 2])\n",
    "    \n",
    "result1, result2"
   ]
  },
  {
   "cell_type": "markdown",
   "metadata": {},
   "source": [
    "# Day 6"
   ]
  },
  {
   "cell_type": "code",
   "execution_count": null,
   "metadata": {},
   "outputs": [],
   "source": [
    "grid = []\n",
    "for line in input_data.split(\"\\n\"):\n",
    "    grid.append(list(line))\n",
    "\n",
    "m, n = len(grid), len(grid[0])\n",
    "start = None\n",
    "directions = [(-1, 0), (0, 1), (1, 0), (0, -1)]\n",
    "for i in range(m):\n",
    "    for j in range(n):\n",
    "        if grid[i][j] == '^':\n",
    "            start = (i, j)\n",
    "            break\n",
    "    if start is not None:\n",
    "        break"
   ]
  },
  {
   "cell_type": "code",
   "execution_count": null,
   "metadata": {},
   "outputs": [],
   "source": [
    "def travel(x, y, d_idx, path):\n",
    "    while True:\n",
    "        path.add((x, y))\n",
    "        dx, dy = directions[d_idx]\n",
    "        nx, ny = x + dx, y + dy \n",
    "        if not (0 <= nx < m and 0 <= ny < n):\n",
    "            break \n",
    "        if grid[nx][ny] == '#':\n",
    "            d_idx = (d_idx + 1) % 4\n",
    "        else:\n",
    "            x, y = nx, ny"
   ]
  },
  {
   "cell_type": "code",
   "execution_count": null,
   "metadata": {},
   "outputs": [],
   "source": [
    "path = set()\n",
    "travel(start[0], start[1], 0, path)\n",
    "print(len(path))"
   ]
  },
  {
   "cell_type": "code",
   "execution_count": null,
   "metadata": {},
   "outputs": [],
   "source": [
    "def simulate(x, y):\n",
    "    vis = set()\n",
    "    d_idx = 0\n",
    "    while True:\n",
    "        if (x, y, d_idx) in vis:\n",
    "            return True\n",
    "        vis.add((x, y, d_idx))\n",
    "\n",
    "        dx, dy = directions[d_idx]\n",
    "        nx, ny = x + dx, y + dy \n",
    "\n",
    "        if not (0 <= nx < m and 0 <= ny < n):\n",
    "            break \n",
    "\n",
    "        if grid[nx][ny] == '#':\n",
    "            d_idx = (d_idx + 1) % 4\n",
    "        else:\n",
    "            x, y = nx, ny\n",
    "    \n",
    "    return False\n",
    "\n",
    "x, y = start\n",
    "count = 0\n",
    "for i, j in path:\n",
    "    grid[i][j] = '#'\n",
    "    count += simulate(x, y)\n",
    "    grid[i][j] = '.'\n",
    "\n",
    "count"
   ]
  }
 ],
 "metadata": {
  "colab": {
   "authorship_tag": "ABX9TyOzlSBGVhe+TBgADJkskLED",
   "provenance": []
  },
  "kernelspec": {
   "display_name": "Python 3",
   "name": "python3"
  },
  "language_info": {
   "codemirror_mode": {
    "name": "ipython",
    "version": 3
   },
   "file_extension": ".py",
   "mimetype": "text/x-python",
   "name": "python",
   "nbconvert_exporter": "python",
   "pygments_lexer": "ipython3",
   "version": "3.12.1"
  }
 },
 "nbformat": 4,
 "nbformat_minor": 0
}
