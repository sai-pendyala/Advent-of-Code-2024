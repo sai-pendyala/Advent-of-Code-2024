{
 "cells": [
  {
   "cell_type": "code",
   "execution_count": 1,
   "metadata": {
    "collapsed": true,
    "id": "ml3DaN5Tt0S5"
   },
   "outputs": [],
   "source": [
    "import requests\n",
    "from pathlib import Path\n",
    "import os\n",
    "from dotenv import load_dotenv\n",
    "\n",
    "# Load environment variables from .env file\n",
    "load_dotenv()\n",
    "\n",
    "def fetch_input(day, year, save_dir=\"inputs\"):\n",
    "    \"\"\"\n",
    "    Fetches input for a specific Advent of Code day and saves it locally.\n",
    "\n",
    "    :param day: The day of the Advent of Code (1-25).\n",
    "    :param year: The Advent of Code year.\n",
    "    :param save_dir: Directory to save the input file.\n",
    "    :return: Path to the input file.\n",
    "    \"\"\"\n",
    "    session_token = os.getenv(\"SESSION_TOKEN\")\n",
    "    if not session_token:\n",
    "        raise ValueError(\"Session token not found in environment variables.\")\n",
    "\n",
    "    url = f\"https://adventofcode.com/{year}/day/{day}/input\"\n",
    "    headers = {\n",
    "        \"Cookie\": f\"session={session_token}\",\n",
    "        \"User-Agent\": \"https://github.com/sai-pendyala/Advent-of-Code-2024\",\n",
    "    }\n",
    "\n",
    "    # Create the directory if it doesn't exist\n",
    "    Path(save_dir).mkdir(exist_ok=True)\n",
    "    input_file = Path(save_dir) / f\"day{day:02}_input.txt\"\n",
    "\n",
    "    # Fetch input\n",
    "    response = requests.get(url, headers=headers)\n",
    "    if response.status_code == 200:\n",
    "        with open(input_file, \"w\") as f:\n",
    "            f.write(response.text.strip())\n",
    "        print(f\"Input for Day {day} saved to {input_file}\")\n",
    "        return input_file\n",
    "    elif response.status_code == 404:\n",
    "        print(\"Puzzle input is not available yet. Check after the problem is released.\")\n",
    "    else:\n",
    "        print(f\"Failed to fetch input: {response.status_code}\")\n",
    "    return None"
   ]
  },
  {
   "cell_type": "code",
   "execution_count": 2,
   "metadata": {
    "id": "OTkqAp8r45yG"
   },
   "outputs": [],
   "source": [
    "def read_input(day, save_dir=\"inputs\"):\n",
    "    \"\"\"\n",
    "    Reads the content of the input file for a specific day of Advent of Code.\n",
    "\n",
    "    :param day: The day of the Advent of Code (1-25).\n",
    "    :param save_dir: Directory where the input file is saved (default is 'inputs').\n",
    "    :return: Content of the input file as a string.\n",
    "    \"\"\"\n",
    "    input_file = Path(save_dir) / f\"day{day:02}_input.txt\"\n",
    "\n",
    "    if input_file.exists():\n",
    "        with open(input_file, \"r\") as file:\n",
    "            content = file.read().strip()  # Read and strip any surrounding whitespace\n",
    "        print(f\"Content of Day {day} input:\\n{content}\")\n",
    "        return content\n",
    "    else:\n",
    "        print(f\"Input file for Day {day} does not exist. Please fetch the input first.\")\n",
    "        return None"
   ]
  },
  {
   "cell_type": "code",
   "execution_count": 3,
   "metadata": {
    "id": "5gX55kIC5HzR"
   },
   "outputs": [
    {
     "name": "stderr",
     "output_type": "stream",
     "text": [
      "/tmp/ipykernel_1996/4008538322.py:6: DeprecationWarning: datetime.datetime.utcnow() is deprecated and scheduled for removal in a future version. Use timezone-aware objects to represent datetimes in UTC: datetime.datetime.now(datetime.UTC).\n",
      "  now = datetime.utcnow()\n"
     ]
    },
    {
     "name": "stdout",
     "output_type": "stream",
     "text": [
      "Input for Day 15 saved to inputs/day15_input.txt\n",
      "Content of Day 15 input:\n",
      "##################################################\n",
      "#.#...O...O..#O.O...O..O...#....O...#O...O...OO..#\n",
      "##OO.....O#....#...O..OO.OOOO.O#......O...O......#\n",
      "#..........#O#...O..O.O......OOO#......O#.O.OO...#\n",
      "#........O..OO#...#O....O##O...O....OO.#.O.OO.O..#\n",
      "#O..O..##O...O.O.O......OO.O...O.........#..O...O#\n",
      "#..O...#..O....O.O..O#...#.OO..O....O.....OOO...##\n",
      "#..O.O.O.O..#...O.............O...#O.O.O..O.OOO.O#\n",
      "#....O............OOO.O..#.#..#..#...O.OO.#....O.#\n",
      "#.#.O.O.#.OOO........O...OOOO#......OO.#O..#.#O..#\n",
      "#.O....O...............O.O.O.OO..OOO..OO#.O##O..O#\n",
      "###.OO.......O...O.O..O..O..O.O.O..OO.O.OO....O#.#\n",
      "#...O.O...#.O..O....O...O.O.O...O..OOO.........O.#\n",
      "#.O....O...........O.....OO..OO#..OOO....#...O..O#\n",
      "#....OOOO.O.#...#....#............O......OO#.O.O.#\n",
      "##OOO.O...O.O..O.O.....OO....#....OOOO...O.O....##\n",
      "#O......#.O..O...O...O..O.O..O...OOO#O.#.O..O....#\n",
      "#.OOOO.O......OO.OOO....#.....O.O.OO.......O...#.#\n",
      "#..............O.O....O...#.O.......OO...........#\n",
      "##O..O.#O.....O.#.O..O#...O..#.O....O#.O.O.......#\n",
      "#.O.#.OO.....O..#....O.O....O....O....#..O##.O...#\n",
      "#.##.O.O.O.OOO.O.O.........OO.##.O...O...OOO..OO.#\n",
      "#O#.##.#..##.#......O...#O.O.O..#..O.OO.....O..OO#\n",
      "#O....#.##....O...O.##OO.O..O..........O.....O.#.#\n",
      "#O..O.#O...O....O..O....@.OO...O...O...O..O.O..OO#\n",
      "#O.OO..O...O......O#.##OO.#..OO.....O..O.O.O...O.#\n",
      "#..O##..OO..OO.O...OOO...O...O..OO..O.OOO...O....#\n",
      "##..OO..OOO.....#OOO.O..#O.O.O..OO.O.OOO..O..#OOO#\n",
      "#O.##.##.OOOO..#.OO.....O...O.#OOO..O..O.#.O.OO#.#\n",
      "#..OOO.#.O..O....O#..#.OO..#.O.O..OO..#O...O...#.#\n",
      "#..O.......O.....O.O..O.O#..#...#..O..#.OO..O.O..#\n",
      "#O..O..#.#O.O..O..O...O...OO....O.O.OO.O.O#....#.#\n",
      "#.......#.O...O..#...O.O.OO..O.O.O...#..........O#\n",
      "#.OO....O.OO#...O..O.O..O...O..OO..OO.O...O......#\n",
      "#O.O.O...O...OO.O.OO.OO.OO.#...O.O.....#.O.O.....#\n",
      "#O..O.O...O..#............O.#..#..O.OO..O#...O.O.#\n",
      "##O...O......O....OO.O.....O...OO.O..OOO..OOO...O#\n",
      "#......#..O.OO..#O...OO.....O..OO...OO.....O.OO.O#\n",
      "#...#.O.#.O..O..#...#.......#...........O.O...O..#\n",
      "#.O.O.....OO..OOO...O..O.O..O..#..O###.O.....OO..#\n",
      "#.O.....O.#........OO.......O...O....#O.....OO#O.#\n",
      "#O#OO.....O....O..O........O..#O#.OO.O..O......O##\n",
      "#...#...O....O.O.O.OOO......OO..........OOO...O..#\n",
      "#.O.O.....OOO...#.O...OO#....O....O.##O..O...O..O#\n",
      "#...O.......O#.O..#.O.OO......##O.O..O..OO..O....#\n",
      "#....O.....O.......#.OO...O..O.....O.O...O..O.OO##\n",
      "#..O..OO#O#..O..O.......O..........O.........O...#\n",
      "#....O..#.O........O...#OO...O..O.O...O...O#.....#\n",
      "#.....###...........O..O....O........O.....##O..O#\n",
      "##################################################\n",
      "\n",
      "><<vv>><>>^v><^>vv>v><vv>^v<>^v<^v>>v<^<<v^>>v<^>^^^^^v^v><<<<v<<v<^>^^v^vv^^>^>^<v<>v><^<>^^>^>vv<>v><>>^>^><v^>^vv><>><<^>^>^v^<v><v^v>^>v^<^^>^<>^v^<>v^^^>>><v^><v<^>>^<^^vvvv>^v<>>v>^>>v<v><<<vv<vv<v^>v>vvvv<v>^<v^>vv<v<><<^^^>^><^^v>v>^^>^<^v<vv>v<^v^v>v><<><vv<^>^<>^v<>><<^^<<<^v<^vv^^^^>v<<<v^vv<<vv>^^v<^<>><>><v^<<vv<v^<<<>^<vv>^<>^>>>^><<<^><<<v^v<>^^^^<<^^>^vv>^><>^<^<^v^<v<v^^><v^<><<v^>><<^^>v<>v^>>><>^><<<<^^<^<<<<v>v>vv<vv^vvv<^v<v^>>>v^><<<^>vv^>>v^<^vv<><><<^<<^v>vv<^^><>>>^<v<<>^v>>>^v><vv>>vv^v<<v>>^<<>vv><><^v<vvvvv<v><>v<><v>^>vvvv<>>vv><>><^v<<>^>vvv>^v<vv^^>v^<^v<v<^<>>^^v<^>>><<<^^<^<^^^^<<>^^^>^>^><v<v<<<<^^<vv>v<<^^^>v^v<v<><>^^>^^vvvv^>^^><<><^^>>^><<v^vv^<>v<^^<v^^v^>^<^v<<<v^<v<><^v^>>^<<vvv^^^^<<^<^^>vvvv>>^<>^^>^^^v<^>v<^<vv<><^v>^<^<>^>>^^v<>vv>>^<>v^^^^^^><vv<^v<^>^vv>v<<>>^v<v<>>vvv>>>>v><>>^v<vv<>^<<^<v<>>v<v^<^><^^><^v>v><<vvvvv<^<v<^v>^<<><v^<>>v>v>>v>v^><vv><<>v>^^<>v<>>^^><v<<v^>>v^>^v^<>v><^^>>vv>v>v<>v^^^<^>^<v>^<>v<><<><^<<><v<>^>v<><<<<^v^<^^v<\n",
      "<^<^^<><>^<v><>^<^v>>>^<<>^>>v^v^<<v^>v<<v^^>vv><<><vv>^v^<>><<>>^^^^<<^vv>><<v^^<>><^^^<<vvv><<v^^^vv^^^>><v>>>>><v<^^^v>>>v<>vv><<vvvv^^>vv<v<^<>v^vv^v><^<<^v<<v^<vvv<v<<>^>v^v>^>>v>><><>vvv>>>^v^<<>^>^<>^><^>^^>>v<^>vv^^v<>>>>>v^><^>^>v>v<v<<vv^^^>><v^^^>v^^<^^><><>>v<>>^>v^^>^><^^<v>>v^>v^>v<^<vv^<^><v^v^v^v>v<^^vvv>>^>v>^v^^>v^><<v<><^^^<>v><^^v^v<v<>>^>^<>^<<>v<^><><v<><^<v<^>>^v^>^^vv<>v>v^v>v<<v^<<>>v^^v<v>^^v>v^<^^v><v>v^>^<<v<><>>^v>vv<>v^v<>^^v>>v<v^<><<><>>>^vv>v<v^^vv^<>>>v<>vvv^>^<<<^>><<>^>>^>^v><>^^v^<^<vv^><><>vv>v<^<v^^>^vv^^>^v>^v^>><v^v>>^^>vv>v<v<^>v<><^>>^><v<<<v<v><v><^<>v^^<<^vv^><>><<>>>v^<><>>^v>^vv<>v<^<v^<>>v^^<<<^^><v<^<^^<^>vvv<v<<>v^^><v^^<>>><^v>^v^>v>v^^v>^v<>v^^vvv>>v<<^><^^v<v<^v<^><vv>v<<<v<>>^<^v<<<><<>^<vv<^>v<>vvv>^^>>^>^>>^>^>vv>>^>v>^v<<>vvv^^<<<><<><<vvv<>><><^>v^><v^>>^>^>>^v^<<^<^^^v^^<<v><^<<vv<>^vv<^v<<^>^><>^<v<<>^v<>><v^<^v>^>>^>vvv<>v><v^vv<vv<<<<^vv^v^v^>>>^<v><^^vv<<<<^<^<^><>v<>v<<v^^<vv>v><^v>^<^^^^vvv>^^vv<<>^>^<<v<v^<<v^^<v<^^<v^v^\n",
      ">^^>>v>>^^vv^vv>^>><^^>>^v<^<><vv>v<v<v>^>><v<^^v><v^>>vv<<^v>>^v>^<vv>^>v<v><<<>^>v^<>v^>^^^<v<v>v<^>vv>>v<><>v^>>v^<<^><<v^^^>vv<>^><>>^<<<>^^<><<v>>v^^<<>><>v><<v<^>>^>>^v^<^>^<>v^v>v>^v^><><>><>vv<vvv<<v>v>vv>^<^<<vv<>^<<>^v<<><<^v>^>>v<>>vvvv<<^>^><<>>^^v<>^^v>v<<<vv<vv^^>v<<v^^<v^v^^><<v><^vvv>>v^<v^<><<<>v<^<>^>v><^^<^<<>><>>>>v<v<<>v<v^<>>><<^<>^>^^^^<>v^v^<><v<^>vv^<^<^^vv^v^>^v>>v><^<^>>>><^>>^>><vv^<>^v<v><<>>vvvvvv^^^<v<>>v^>>v<^v>^^><>>>v^v>^v>>^>>^><^^<<^^^^><><^^vv^><><>v^^>^^<<^^^<><<>v>>vv^^>^^^v<v^v>^v^^^><<><<><v>vv>v<^^>^<<<^><><^v^<^vv<^^^v<>^>>^<^>><><^vv^^>^<^v>^>v^v>^<>v^v<^>v><v<^^>v^<<^v<>vv^v><>v>>v^<^<v<^>v><^<^<>>>v<^>^vv>>>v>v<^^v<v<>v^v<^vv><v>^v>>v>^<><^v><<<vv>v>>v^v^vv^<<vv^<>><<>>^v<v^v>^^vv<v><<^><^v^^<<^vv^^<<^>^>>v<>^><^^v<v^v^^>^^^>v^<<>^^<v^v>>>v<v^<^v><^vv<>^^vv^^v>>^<>v<>>^><<<vvvv><<<v>>^<^v>^>^^>>v>v^v<<v^^^<><<^v>><<^^<<<^^v<<v>>v<v<<vv<v><^v^>^<vv>^><^<v><v^vv>^v<^>v>>>>>^<<^<^v>>v^>v^>^vv>^v>v^v<v^>v^<^<v<>^<<vvvvv^v>v>>^>^<<v<vv<v>>^^^<^<\n",
      "<v^v<>>^<v>vv>><<v><v>^^>v^^v<<v<^<^^^><^^>>^>vv<^<>v^<<<<^<<<><v^^<>>>^v>^>vv^>>><<<>v<vv^>vvv<^v<^^<v<<v^>v^^^vvv^><<v<><>v>v^<<^^^v^>^>v^^<>>><^v<>>><>v<vv^^><>^v<v>>><vvv<^vv><><v<>>^><^vv^>v<^>>v>><>vv^^>^^><^<<>^>v^<><<>v<v^<vvv>^^vv>^<^v^>><v<v>>>v>^vv>^<>^^>^><>v<vv^><<^v^>^<>vv^^^>vv<>^v>^>^^<>><>^v<^^><v^v<^v^<vv^>>><>v<<<^^<v^^^><^v^<<^>vvv<^<v^<>>>^v<<<<v<v<<<v^v^^^>^>^><^v^^^><<<><><v<v>>^v<>^<<v>^>^^v^^<<>^v<<>v>^v^v^<<<vv><<<v>>v>^v^^><vv><<<v>>><^>^<><v>v<<<^<>>^<v^<<>v>vv>v^v>v>><^^vv<>><>^v^<v<v^vv^>^>^^^^^<<v<v^<^<>v>^v>v^v>>>>>>vv<<v>v>^^<<vvv^^^^><^vvv>><^<^>v<v>v>^<>>v<v^<vv^vv>vvv<>v>>v><><>v<^><^<^<v><^v>vv^^^<^v^<<<>^^>>^<^<>>>vv^^vv^>^>vv^>>v>^>>>^>v^<v<>^^v><>><>^^<v>>v<^^>^^v^>^<<^<>>>>^vvv<>>^^v<vv<^^^^>^>^^<v<v<v<^^>^v<^^>>^<^^<>^v<^>>^<<v^^^<>>>>^><<><v>v^^<v>>v>>>v^vv>v^><v^v>>v<^v^^^v^<^v<^>vv<>v>>v^v<vv<<^>>^^vv>^v<^^<><v>^^>>^<>^<^^>vvv^>>>><^^vv>>^<<>^v^>vv<<^vvv^><v<vv<^v^>v^>^<vv<^vv<>^<^>>><>>^v>^<^v<^v><<><<^>><><^><^^^<^>^<v>^v^v^<<^v>>>v>><^<^^\n",
      "v>^^<<><>vv^v<<<>v<v<><vv<<v^^^vv<^v<^^<<vv^>>vvv>>vv<v<v<<<>v>>^v<>v^>v<<>^<^><v>>v>>>vv^>^<<^^<vvv^^^>^^<v^<vv^v>^>vvv<v^>v>^v<<^<v^v>>^<vv^<v^^^v^<<<<>^^>^vvv<>v>vv<^^v^>^>v^^>>>v^^>v<><v<^v^^^<vv<<<<<^vvv^^^^>^^v>v^<<^^^vv^<^>>^<^v<^<>>v^^<v^<<<>^vv^^^^<>v<>>^>>v>^v^^^><vv^>v><<vv<<^<v<^v>v^v>>>>v<<<<^v^vv<>^vv>>><<v^><<^^^>>vv^^>>>vv^<>v^<^<><v^^>v>>^>>v<<v<>^>>^v^v<>^<<^<^^>><>^>v>^<><v>>^v^^>>vvv^^^v^^>>>><<>v<><^<v<^>v<^^>><<v><>^<>v<v>v<vv^>^>^<<^^^><^<<<<v^>^<^v^><vvv^>v^^vvv>><^<^<<>v^^>v^><^<v>>^^v<<^<<^vvv^^>^^vvv<<v>>>^v^vv<v^v^>^>^v<<>^>v^<vvv>>vv>^<^>^^>vv<>>^<v^^^<^>^v^<>^><v^>><v<<^<^<>^>^<^<<v^^>><v>^<>>^v^><<^v>^>>>^<vv<<<v^<v><vvv^<>v>^^>>><<><v^^^<v>>v<v^>>^^^^>>^v<^>><^^^vv^<v<>>^vv^>^<>><<^>>>>>><v<>vv^^>v<>>v<^><v<^^<>v>v^^v<>v<<>><^><v<>>v^>>vv<<>>^>v^v<^<^^<v^<>^<>v^<<^><><v^<>>^^v^^<v^^<>^v>>^^v><<v^v><>^>>^vvv><^^<<>vv<>><<><<<<v^^^<v^<^^>^>><^^^v><v^v^<v><<<>^^>^>vv^<<<v><><<^vv<v^<v^^^^>>^<vv<^>v<<^>>^<>^<>>^<v>^<<^^><^><>^v^>>v><><<>^>>v>>>^<>^>^<v<<^^^>\n",
      "vv><>^<v^vvv<>><^<<vv^v^<>v>>v>v^^v><^>^<v>^v>vv><^>^^^><<^><>v^>v>^<v<^<vvvvvvv<v<v><^v^<>^>v><>v>>^^>v<vv^<v<v^<><<>v><vv<v<<<<><>>>^<v^^<<<v<>v^v>>>><^v<v^<<vv^><^<<>>^^>>>vv><<v<<>><^<>^<^^v><^>^<vv<^v<<vvvv<^>vvv>^>vv><><<>v^v^<vvv><>v<<^v<vvvv<^^^>^^><<><vv^v<^><><^^<^vv<<vv^v<<vv<<^>><<^<<>^<^>^^v<<^<>><>^>^vv<v^>>^^v<v>>^v<vvv>v^v^<<<>^v<v^<>v^<v^v<^v>>^<^^^^<><v<^>v<<<>^<v<<<><>><v^<v>v><^^^>v^^v>><v<v^^<v<v>>v<^v>>^>>vv>v^v>vvv<>v>v>><><<<<><<^><^v^v^^^>^>vvv^^^^^><<^^^v<v>^^>^<>^^^vv^^<^<>v^v^^^<<v^^^<^<vv>v<^^><^<><<^v>v<><v>^<<^>vv^v<><<<>^v<<<<^>><<^^<^v<v<>>>>^<>><<vv<<^<^vvv>vv^<>^>v>^v>v><<>>v^<^^><<^^<>>v>v>^v>><^>>>vvv>>><<<^<<v^<vvv>>>>^v<v<v^^^>vvv<<^^v^v>>v<v<^><^v><<^vv<vv^<^^<vv^><<<>v^vv^v^^>^v>v><<<<<^v<vvvvv<<^^v>><>v>^v>>^^v><><v>vv<v<>>^v<vvv>v<<v>^^^^>><^<><<v>v<^<<vv^v^<^>><<><^<^><^<><v<^>^>>^>^>^<<<vv<^^<v<vv^<>>>^v><>^<>^>vv^<><^^v^v<<>><v<^>>^v>v>v>^v^>^v^v><<^<^v^><<v>^vv>^<v^^v<v<^<<<>v^>>>vv^<<>>^>^^>>^>><>^^><<>vv<v>v>^v>>^<^vvv<<<^^<v>v^^^>^<^>v^\n",
      "^><^v<>>^<<^vv^<v<vv><<^^<^^<><>>^><>><^>^v>>v^v>v><>^vvv><<^>^^v^<vv<v>^>>v><^v<<v>vv^v^>>>>^vv<<v<>^^v^^v<<v>>v<v><v<<>><<vv>>vv>^v>v>^v<<v^<<v>vv<^^<<vv<<<><>>vvv>v^<^<><v>^>^^vv^<^v>><^v<<>>^vv>>v^>^^<<v^v>>v<<v>^^^>^>v<v<v^<>^<^^^v><^vv^><v<<^>>>^><<><<>>vv>^v>v^>v>^<v<<^<>vvv><>><<v^v^>>^>>>^<<v<<v>><^>>>^v^>vv><><^<<v<><<<v<v<^vv>>>><>^>v>v^^^v<^^^v>^^v>v>^<v^<<<v><<vvv<v>^>vv<<v^^^^><>>v<^>^v<><vv<vv<vv>>>^^^v<v<^<v<>><<>v^v>v<<vv<<^v^<v^vv^><^^v^v>>>>^<<<v>^v><^v^><^^>><<<^^<vv>^>^^<<<^>vvv^><vv>><<><>v^<v<v>vv<>v<v>^<vv<^v^<>v<vvv<>v<^<<^<><<><^<v>^<>>>^<v><^>v>^<>^>^v^^<<v<>v><<^v<<vvv<><^>^<>^^><<^v<^^v>^^vv^<<><<>^^v^^>>>vv<^^<^^^>v>^>^<<><<^v^>v^>^^v><^^>^v<v<>^^<vv^^^v>>v<>>^<<<>vvv<^v^^v^^^<<<^>v><>>v>>v>v<v<^>v^<v^<^v^^v>^>vvv^v<^v<>^^><^<><>^^^<v<^<^^^v^<<<vv^v><v><>>^v>^<v^^v>vv>^^^^>^v^>v>>^v^v>v<^<^<v^<<^^>>vvv<v<^<<^<><<^^v^vv^><<<<>v><<<<v<<^v^^>^><>^<v><>><v^v^^>>>>v<<^<vv>^^<>^^v<^^>^v<<^><>v^<<>^<<v^^vv>^vvv>v>^<<>vv><v<>v^<<^vv><v><>^^<^>v<<^>>><^>v<<>^>^><v>\n",
      "v^>v<>^<v><><vvvv^>v^>^<^^>>vv^<v^^><<>><v<<<v>^vvv^>v<v^v<><>v<vv>v>>^v^<<>v><^^>>>>v<<>><^><>>^>v>>^vv^<^v^<v<^<<<v<^<v<>>>vv^v<v>^v<^^v<^<>><vvv<>^<v^^><^<<v><^<<>>>v^^<^v><v><<^^<v>v^<^v^<v>>>>vvvv>>vv>>^<^<>>v><>v^^v>v<v^><v<v<<^<^<>^v^>><v>>^<v<v>^<^v><>^>>^v><<<v>vv^v<>^v<v>^<>>^^^vv^>^^<^<<<^><>^^^>^<>>vv><^<^vv<<>>^v<><>v<vv<>^<<^<^v<vv^v<^>vv><>>^^><<<>v>^v^<^v>v<^<><^><v^^><v<v^><<^^>>^v>^>^<>^><>vv<v^<v^<v<>v^v<<>^^^^<<^v>^<<>><^><>v^<<<v<<><>>>>^>>v<>>^^>^^^>><v^<^<vvv<<^^^^v<>><><v^>v^^v<v^^<^>v<<^^v^>^vv^vv>^v>>^^vv>v^<>>^>^<>>vv<>>^^^<^^v>><><<v<v<v>><^<^vvv^^^<><>^>^<v<<v><v><>>>>>>vv^<v><^vv>^<<<>^>v><>v<<<>vv^v<<^>^v<v<<<v<v^>>vv^v>>>v<><^>>>^>v<>vv^><v><<^>^v<v<vv^v>vv><<^<<^<>^<>^>v<^^^v<v<<v^v>v>>v><v>>v<^><^v^<<vv^><^v<><>^<<>^<v<>^v^^v<<^v<<vv>v<>>>vv<^<<v^v<v^<><^vvv^>>^^>>v<^>>^v<<v^^^vv<><>^vv>v^vvv^^v^v<><^^v^^^<<>^<>v^^v^>>>v><^>^><^^v>^>>^v>v<^<>><v^>^><v<>^v>^<vv<>^vv<>^>^<<^>>^<><<^<v^vv>>v>^vv<<<<vvv^<v^v<<vv<>v<v^<^>v<v<^vv<v<^^>>><<^^<v>><<>>^v>^>v^>>\n",
      "^^<><^>vv<>>^<>^>^^^v<>>>>>vv^<vv^v>v>>^>^v><^<vv<>><<>>>>^^v^>>^vv<v<v>^v>^^<^vv^vv<><^v>>>><<<<<<<<v<<vv<^<^^vv<vvvv^^^<v<><v<^<vvv<>^v^^>v^v><vv^^^<<^<vv^v>v<v><v^<>v<v^><>vv>v<v<v^vv^^>vv>^>^^><<<<<^<v>>^<<v<^<>vv^vv>>>v<>>v><>^^<^^^>^v^^^<<<<v><<<><<^<v<^vv^vv^v><v^<v<v<v<vv^v<<v^^v>vv^^>v<<<<<vv>^>^v>^^<>^v<^v<<><><vv<^vv^>^v>><^vv>>v<vv<<^>>>v^<<vv>>vvv>><<<<>v>v<<^^>^^><^^^^>^v>vv^^v><<><^^^^>>vv^^<^<<<<^>v^v<^>^>v^^v><>v<v<><>v<<>v^<<vvv^v^><^<><>>^^>>v>^>^v^^<^^v>vv<^^<>vv^><^^vv^>^>vv>>>>v><^<<v<^^v^v^v>>>v<><v<v>>^v^^<>><v^<><^<<^^>^>^^v^>>^v<<<^vv>>>><<<<><v<>>^>vv<vv>v^<>v<>>v<^v>^^^<^<^^^^v<<>vv>v<<^><v>><>>v<^<^>>><^<v^>>^v>v>^vvv^v<><^<v<<^>^^^><^^v^v^^v<v^^v<>>^^<^^^v>>^v^^^^>>>vv<><vv^<vvvvv>^<>>><<v><>>^vv^vvv>^<v^<v^<<v<>^>>>^v>>v>>vv>v^vv<^>>vvv<v<<v>v^>v<<<v>><v><vv>^v><><^^^<><<>v^^^v^vvv^^^vv>^<<<^><v<<>^vv<v><<v<^>^^v^^^^<>^v><>v<^<<<<<^>v<<<^<v^>vv><<>^>>v><><><<<v><vv<<><>^^><<^^^^v<<^>><v>v^^^<^<^<v<<^^><<vv<^^>^^>vv^v<v<^<v>v^<<^><>v<<<<<<<><>>v^>>v<>>^<><\n",
      "vv^<><v^<<>v^<>v^^>^^>>><>><<<<^<>vv^v>^<^<<>>>^vvvv<v^^^vv>>>^>^>>^<^v^^v>^^>vv^<><^><>>v>vv^>v>v^v>>><^^<v<>v^>>>>^^^vv><^>>>^v><><<>^^^<v<v<>^v>><>vv^v<<v^^^^^v>^v^v^><^v^vv<<><<^v<vvvvv^<><<>><>^^>>>>>>>^^>^<<^v>v^vv<<^v<><^^v<v<<><v<<^^v^>v<<^^v^v^>>v>^v<>v^v><<>^<^^v^vv>^<>>^>v<v^^v<^v<v<^vv^>v<^<><^^<<<v^^^<>>><<>^v>v<vvv^^vv<>v^>^vv>^v><vvv^><^>>^>^^v>>^<>v>>>vv^<>^^v>v<>>^<v<>>>^^^<v^<^>^v<>v<<v^<><^vv^><><^<<v^^^v^<>^^v<>>^^v^><<<^<vv<^>vv^<>^v^><^<^>v<^>vv<vv^vv<^^><v^<^<><^^>>^<v<<<vvv^v>><>^^<<><>><vv>>>vv>>v^><>vv<>>>vv^><><<v>>><>>><^<>vv>^v<^^^v>><<>><^v<v>^>^><<>^>>>v>^v^^^v><><<^^^v>>>^^>^<v<<v<<v^v>v<^^<><<^><vv>>^v^>^^<<<<^vv^>>><><^^^<^v><v<^<><^>^<><>v><v<<>v^^^<^vvvv<vv^<v>>v<^v>^<<>>^><^<v^v^vvvv>^^v^v<>^>^<^>^v<>v<v^vvv^^>^^>vvv^<>^^<v<<>^<<<>^<><<v^^>^>v<<<><vv^<v^v<<v<<^<^^>^><<^^^^v>>>vv<v^^^>^^^>v>v^^v><v>^^vv^><vv>^v>>v>vv>>>><vvvv^<<v>^>>^vv><>vvv<^>^^>^v>v^^<><^<v<<>v<>v^>^v<^^vvv<v>v>>^>v^vv><>>^<v><>>^^v^>>v>>v<^^<>vv>^>^<v^^<<^>^^^>><^v^^<v>^>^v>^vv^<\n",
      "vv>>><^v^>v^>>^<^<v>vv<v^^>^v>>^>>vv<v^^>vv<<<>v^v<<><>^<^^<><^<>^v^vvv><^>><^>>v^vv^>>^^^<><v<<>>^v^>^>^<vvv^v<<<^v<<<^<v^>v>>^><<^<>v>v^>>v<^><v<>>v>v^^><>^<<^^^v^vvv<<^^<^v<<^>^<<<^>>^>^^v>>v^>v<<<^^<<<><^>^>v^^^v<^>>^^vv^^<>>v><v^<v^>vvv>^><>v>v<v><^v><<<v>>^^^<v^><^>^>v<<><^<<>>>v>>>^<<^v<<<^<<<v<>v><^^^^v>^v^^^>>v>>^>>v><<^<<>v^v<<^^>v<>vvv^<vv><vv<<^v><v>v^v<<^v>^><v<v>>vv>>vv>vv^<^^^^v^>^<<^<>^v^>>v^>>^^>>v<vv>^<<<v<<^^<<><v>^>^<v>^v^vv>v>>v^^vvv>^^v>><>v><>^vvvvv^^v^>^^v<>^^^><>v<>^vv<<vvv><v<^><^v>vvv><<vv<<^<>vv^>^vv<>>^<><<v>^^vv<>><^>^^^v>v^<<^vv>v<<^><v>vv^^>^v<>>^v><v<<vvv^<>>>^^<>^^>>v^>^v><v^<>><>^<vv><<>v^<v>>^vv^v^<><vv^>>vv<<>v<vv><>>^<v><>^v><v^v>^<<>^<<<v>>^v>^<^v<>^>><<v<<<<v^>^>vv<<<<<^^<>>v><>^<^v>><vvv^<<<^^<><^>>v<^<<>>vv^>^><>^^<^^>^vvvv><>^<<^^v>>^>vv<v<<^<vv<>v^v^>vv>><^v<vv<v>v<><><v><^<^^v>v<<^v<<>v<<^^^vv<>>^>>^v>>v<<v<^>^^>v<>>^vv<>^><v^>>^>v<v>^^<><^>^v^vv^>vv>^>^^<v^>>><><v><<vv>>v><^^><<^v<>v><v>>v^^>^><>v^<<<^><>v>>>>^^><vvv<^vv>>v<v>^><vv^<<^^vv<<\n",
      "^v^vv^<<><^>^v>^v<<<^^^v<<<<<>^>>vv^<<<>v^^<v<^>^^^v>vvv><<<>^^^v>vv<^><v^v^v^><><<vv^v^>><<<>v^^>v>^<>>v^^^vv^<<v<v^>^v^<>v><><<^^>^><<vvvvv^><v<^>^v<vv<^^>vv<^v>v>vv<>^>>>^v<<<<vvvv<^<^><vv^>^><v<^^^>>>>^^<><<>v<^<>>>>v>>>^vv>><vv<^^vv^v^<>vvvv^><^>^<^v<v<>^>^<v>^^><v<<vv<^v>>^v><>>v^>>v>><>><^v^^^<<v>^^v<^v<v><^<^v^>^<^>><>>>v>vv<<<>><<<^^<v>^>^^v>v>>v<v^<^^>^<v>><><v>v^<^<<^>v<>>>>v<^^vv><^v^v>^<v>^>vv^>>><<<<><v>^>><>^^vv>><^<<^^^>v^v^<>v>^v^v^v^<v^>>^v<v^v<<>^^>^<<v^><>^<>v^v^<^^^vv^>v<<v<vv^>>^<^<^<vv>>v<<>^vvv>vvvv^v^>>>^^^v>^^>^<^>v>^v><>v<v^<v><^^v^v^<<>^^>^^v^v<>^>><>^^^>>^^><<^v<>>^vv<^v^vv<v<>^<vv^<^<^>v<<>>>>vv<^v<<<><<><<v>^v<<^<vv<^<v<v>vv^<<<^^v>v><vv^>>^v^v>v^<<<>v^><>v^<>v<vvv>v^v^<<vvv^vv^<<v^><><><><>v^^^v^v<>v>vvv^>><<^>>v^^<v>>v^^<v^^<>v<^^<^<>v^<v>vvvv>^vv<v>^vv<<<><vvvv>><<>>^<><>><<v^<^<>^^>vv>^v<^><<><>^^^^v<vvv><v^<v<>^v<v<>><vv><^>^>^vv<^<<>><><^>^^^>>vv<<<^>>^<v^^>^v^<v><^^v>>^><^vvvvv<<^>><vv^>><vvv<>>^<vvv^><<<<><^vv^<>^^<><><^^^v>>>^>^^>^v><v><<^>^v<>v^\n",
      ">vv^>>^>v>^<^^<^^v^<>vv^>^<vv<^^<<^^v>>><^<<>v^vv>^<><>>><v^^>>>>vv^>>><>^><<^v<^>v>v^<^>>v^>^^^<<><>vv<<>v<<vv^>^><^<>>^<v^v<<^^v><v^^<v<<v<>v<>>v<<^<vv^<<><<^v<>><>>v^<><<^v^^<>^v<v>^v^><vvv<><<v^<>^<v<>^^>><>vv^>>v^<v^><<>>vv>v^>><^v^^>>^^v<>v^<>^^<<<v^^><^<>^<^<>v>^v<v<v^v>>^<<^v>>^v<^<v<^v><><^>>><^^v<^>^><v>vv<^>>v<v<v>>><>^v<>v^v<v>v>v<^<^^<<>v<^^v^<^^<^vvv^<<v>^^<>>^^v>^>vv><^<vvvv>v^v^>vv^>^<v<>^<^<^^v><^>^v<>><<^>>>v<<<<^^<<^<^<>^^>v^>^v^vv^vv<><vv>>>v^^<^v>v><^<v>><>><v<^v^^<<v<v<v<><^v>><^>>^^>v<^^^<v^><>v^<><>>v<^<<<<<>^^<>><^^v^^^<>v><<v<^<>^<^<<^>^^<^vv>^>^><^^^<vv<>>>>vv>v>v><v^><v<<><><<><^v^^v<^vvv>^>v^v^<^<>^>>^<>^^^^v><^v^vv^v>>^^><<^^v<v<^^><<<^^v^^^v>^>^<v^<^<>><^^<^^><<<<<<>^v>><vv>vv<>^^<v>>^<><>v>v<<<<^^>^v>vv^v<<^>^^<<<^^v<>>vv^><^><^v><<v^>v>>^^>>^^v<<><>>>v^<>>^^>^<>^v^^<v^v<<>^v>v<>>>vvv^^v>v^>><^^>v^^^>v>v^>vvv<^<>v>v>^vv>^vv<<<<<<<<^>v<^<<^<<<<v><>^v><^v^>^vv>v^vv<>v>vv>v^^>^v^<v<v^^>><>v>^<<v>vvv^v>>v^v<>v>><^<<<<^^<<>v<<v^^<<v><vv<>^v<^<v>>v<^^><^^<>v>^\n",
      "><>^^^>>>>>><^<>^^v^^v^>><v><<>^<v<<v<>^>^<<^^>v^^v^v>v^^^vvv><>^<<v>vv<v^<vv><v<^>^<v^>>^^<^^<v<^^v^v>>^<v^>v<>>>v^>v>>v^v^>v<>><<>^<^>>>v<<><^v><^^^>^^<vv^<><>v^vv>v<<v^^>vv<vvv<<^^>v<^^><>>v<<>^v^>v^v<^vv^<v^><v<>v<<>^vv<v<vv>^v^v<^>v><>v<<><<^^>>><><^><^v<<>v^^vv^>>>v^>>>>vvv><>>>v^^<<^<v^^v<>vv<>v^^^<v><>vv^>v<vv^^>vvv<^^><><^^><<<><<>>^<vv<<<<<<>^^>vv^^<vvvv<v^><vvv^><>^<>vv^<<<<>><>>>>>>^^>v<v^<<^<<^^<<vv<vv<^<>^^<>^vv<<<^><><v>^<^^^>v<><<>v^^v>^v^v^<>v<>>>v<>v^^>>^<>vvv><v<<>^^^^><<<v^<>>v>>v<<^^^><><<>^><<v>^v>>vv>v<<^vvvv><>vv<^^v>vv>>^<<^<>^v^<>>v>^^<>><<^v<v<<<><>vv^<<^^<^>v<v<vv^>><>^^v<<><v^<v><<^^^vvv<vv>><v>><<v<>^vvv^v><v^v<^>v^v^><<v>>v^^<>>^v<^<^^v^<^^>v<v<<^vv^<^<^v<<<^^<><<<<v^^<^><>v>^v^>^v^^^v^<<>v<><<<>^^^<><<v<^v^v^^>^v>>v>><^><<v<^v<>v^vv<^<>^^<>vv^>>><>>^<^v>^>^^>^^^^^v<v^>v><<v>>^<v>^<^^v>>v^>v^^><^v><vvv<v<>^^v^>v^>>^>^^><<>^<<v<>v>><v>vv^<^^<<<v^v>^^vvv^<<<<^^<v^<vvv>>><>>>^^>v><v<^v<>><^^><<^v^vvvvv^v>>^<<^v^v^<>>v>^>v<v^v<^><<>^vv><^>^v^<v<>>^^^<vv^v>><v\n",
      "vvv>^>>><v^>^^>>>>>v^^^v<^v^<<>^v>>v>><<<<<>><><^>>^>>^<v<^^v><^^>v><vvvv^v>^<>v^<>^<<>^^>vv^^^^<v<>vv>>^^^><vv<^>v>^v>^<vv><^vv^^^><^<><^>^^<<v^>^^><v>^><^v<<^v<^<>v^<^v>v>><>>v>^>>v<<^^<>>vv<<<<^>^<v>v<>v<^<>^>^^<<<>^<><<<<v><v^<<^>>^^^vv^v^^^<v^vvv>^><v^v<v<^^><^>vv><^>v<>^>>^v<v>>v^><<><<<<^^>>v>>>>v^>>v^><>>^>^>^>^v>^<v>vv>>><>><^^^v^^vv^^v>>>v^<^v^>v>^v>v>^>>^^>v^^v<vv<^<<<v<>><<vv<v>v<v<<>v>>^v^>^<^>>>>^v>^>v<><>>vv^<<^^>v>>^<vv<><><>^<v>>v<v<>><><^^<<>><^<^<>^^>>vv^vv>v^^^<^><^<^><v<^^<v<^v>>^^^^<>>><><^^<v^<v><v<><v^>^>^v><<v>v>v>^v^<v^vv^>^^^>vv<v^>^^><^<vv<><v<vv<><>><<^>v>v^v>^vv><<>^vvv>v<v<^v^^>>>>^^<^^vv<<^^^><^<^<v>^^^<v>>v^<v^><vv^>^v<<^^^>>^>v<^v^^^<>>^<^<^^>>^v^v>v^<^v<vv<^vvvv<<<^<>^v^^<v<v^<^><<^^<<>^><<<<^<^v<<^>v<vv^>>vv^<^<>^<><<^<>>^>^^v^>^<^>^v<>v><v<v<^^v^^v^><>>><^vv^^<v^>>^<>v>v>>>^<>^^<>^vv><^^^v^>^<^v<vvv>v>>v><<<v>vvvv<v^<^>^<<<<<^vvvv^^><vv<<>v<>^><vv^>>^v^v^^>>^^v^>^<<v^v<vv^vvv>vv^>^vvv^^<v^^>><<^>><>>v<^vv><>v>v>vv<^v<><vvv>>^^v^>>>^>^^^v<>v>v<v^>>^^\n",
      "<<>v>v^<v<v^>v<^^>^v^>v>^>><>^v>^^^<v^vv><<v^<v<<>><v<^<^>>>>^^>^v^<^^v^>^<<>^^^^^^v^v^^v^>>v>^^<<v<vv<<<v>><>v<v<v><v<>>v<^<v>^v><<v<vv<>^>^v^^vv<v<v>><v^>>^<>^v><>><><^v^^^^><<<v<^vv<>^>v>^v^>^<>>^><>>>^^v<vv>^^v>vv^>>^^><^<<>>^^<v^vv<<><<^^^v>><>^^v>v>>v<^^vv<>v<^v^^<^v><<^^^^<>>><vv^>^>>><<^^>vvvv<vv<<v>v><^^<^^^v>^>^<>^v<^^<v<^v>^v>v^^<^<<>^>>><v<^<>v^^>vv^v>^^v^v>v^><^>>>v>><><v>>^^^<<vv<^>vvv>^^^v<<v<^<vvv>v>vv^^<^vvv<>^v>^>v><<^v<<<>^v><<<^^><>>v<^v>^^^<^^>>v^^>vv^^^v<<v><><^v>>^>><>v<<>>><v<v>>vv>v>v<>>^v^<<><^^>v<^^v^^^v^v^v<^vvvvvv<><<^><vv^>>v^<<^<<><>^^>^<>><<v<^<>v>^<>v^vv^<v>v^<<<v<^vvv><^><>^vvv<<<v>^v>v>^>v><<^^^<v<>>>^>>>><^v<v>>v<v<>vv^<<vv<v^>^<^<vvv>^>^v<^<^v<^^<v<^>>v>^vv^><vv<v>v^v><<>^^^^<<v<>vv<v^<vvv>^^<<>^<<vv^<>>vv<v>><>><<vv<>vv>v>>^^<>^<>>v<^>^vvv<v<<v<>^<vvvv<vvv^>^vvv>v<>v<^><^^vvv<^>>^<v^v>v>^<<^vv^<^^<v^vv<>v^>>>^<>v>>^^>>v<vv^v^^^>>>>>v>v^vv<>vvv<v^<^v>^><<^>^<>vv>^<v^>^>>vv>^<>>^^>>>^<<vvvv<v>^v><<v>>^^v<^v^v<v<v><^>v<^v<<^<^>v<vv^^^>><^^>v>^><v>^^<v\n",
      "v<><<<>>><^^<^^<><>v<<>>>>vv<v^>v<<vvv<^><><vv<>^^<>>>v<v>^><><<^<<<v>>>v^v^^^^^^^>>vv><^<^v>><v<><>>v<vvvv^v^>>>>v^vv^<<v>>^>v<<^>v<^^>^>^<>^<>^<^^<>v^><<<><^^<><v<<<v^v>><<v<>vv>v<>^<^<><^^v^>>v>>v<<<v<><><>^>vvvv<><>>>^>v^><<<<^<v><<v<^^<<^>v<^v<v>v<v^^vvv^<><v^><>>^vv<>>vv>>>><v^>>^>>v>^>v<vv<^v>vv<^><v>^>><<<^^<vvv<^v>v<>^v>v^^><<<v^<v^>^><^^>v>>>>>v<^>v^^^>>>v><>>v>v><^^^^><vv<vv^>^<^>v^vv^<><v<><>><<>>v^vv<<<^^>>><<<v><v^vv>^><><^><<^v><<>v^>v^<^>^<><^><>^v>>^>>^^<<><<<v>^<^^>><^^<v^>v^>>v><vv><vvv^v^v<^<vv<<>>vv>><<><v^vv^>v>^<>>v^<<<^<v<><>^v><<vv<<<v<<v^<><v^>>><><v^>^<>^>^vv<^>^>vv^^vv<<v><vv^<^>^^^^<><<<^^^v^<>vv^v>^<^^>vv>vvv>>>v>^^^>v>^^v>^>^^>>^>><>><^><^<^^><<v^v<<^>v<<^v<^<^v>>>>^<^^<<v^vv^^<^^^<^<>^^^<><>^v<>^^^^>>v>>^v><>^v<^v>^<>^<^v<v^^<>>^>^^<>>v>^^v^>v<>^^^<>>v<v<^><vv>v^>>>^<v^v>^<><vvv>^v<^^<^<>^v><v<><<v^<>v>^><v<<v<^vv<vvvvvv><>^v>><v<<v<<>^vv<^<^^^^<<>v^^^vv^v<v<<^^v^>v>^<>v^^^^>v^v<<^>>vv<<v>>^>^^vvv^<>>^>^^<^>^^^^>>^<^^>>>><>><><<><><<v^^v<vv^<>>^>^<>^<^<^\n",
      "vvv><<^>^v^^>v<vv<<^^>><<<>^>^vvv<<^^v<vvvv<v><>v>^v<>v<^<v<<^>v<<v>v><>^^^<><<>^^^v<^^><><v<^<>>^>v><^>^^>vv^v><^>v<^vvv>^>>>v<>^vv^v>v>v^v<>v<^v<^<<>^^^<vv>>><>v>><vv>v^>>^<^<v<<>vv><>^vvv>><>>^<^<^^^^<><>^<>vv><^v^^^v<>v<><>v>v>^>>vv<<><v><v^^vvvv^>vv^<^v>v><<<v>v^>>^>v>^>^>><vv><>>^vv^^>><<><vv^<vv^^v^>v>>vv<><<^^<^>v<>>^^^>^<^<<>^<v<v>>^><<<>^^v<^><vv^><^v^vvv><v^v<<^vv^v^<<v<>^v>v^><^><>vvv^^>>v^^v<^vv<^v><^>vv<^^>v<vv>>v<<<><<^>^>^>v^>><>>v>>v>v>^>v<vv><v^><^<><<<<<<v>^^vv>v>><v^<>^v><vv^>v^^vvvv^>vvvv><>^><^>>^v^<v^>v<^^^v<<<^^<<^^^<>^v>>vvv^v>^^^>^v^<^>>v>^^vv<<<^<>>^<^^^^<^>v>>^v^>>v><^<<<v<v>v>^<<vv^<<>^vvv<^^^v^^^v^v^>v<v<^^>>v^vvv><vv^vv^^<<v<^<^<v>^><v<^<<v^^^<>>>>^v^<vv<v^>>>>v^<<<<v>><<<^v<>>^v>v<>v>v><>^^>v>>v<<^^^^>v<>>>v^>^^<^v^v^^v^v>^^<<^<^<^<<^<>>v>^v>^>^^><v^<>v>>>>>>v^v><^^^><^>>>>^v<>^^v<>><^>^<v>v<<<^<<v<^<>><>>>v<<<<>v^<>v<^>vv^^<^v^^>^<v<<<v>vv^>v<><v>^v<^^^<><<<<<<><><vvv>^>>v^^<<^^^^v<<<>v^^<<v>^>vv^^>v^<v^<<<v<v>^vv^>>^v^<<v<^^v>>vvv<>><v<v>><^><>>^^>v^>v\n",
      "v<v<^v>>vvv<^^v^v^>^<><<>>v<<v>vv>v^^>>>^^<>^<v>><>^><<<>^^>>>v<v^<^<>^>^v^>^v>^<^^^^<^>v<vv<^v^v<v<^<v<<>^^v^v>^v<><v^^<^^vv^><^^v<>>>>^v^><<>>^v^<>v<>^>v>>v<^>vvv<^^<<vv<^>>v<<><>>v<vv><<v<v>^><^<<vv><>^<>^vv^v><v^<<v>^^<>v<<<^^>>^^<^vv<<v^v><>vv><v<<vv>^<^<>v<^vv^^<v><v^>v^<>><^vv<v^>v>v>v<^^><<>v<^<^>v>v>^<v^^vvvv<>vv>v^^v^^<><>>^>v<vv<><^v<^vvv<v>^v>vv<v<v<>^>^>^v><^<v^<>^v<^v^v>^<^^^<v<>vv>^>^<^<vvv<>vv>vv>vv>^<>^<<<v<<<vvv^<<<^<<>^>^v>>v^v<>>><>v<>>vv<><^>v><v^>><vv>^<v<<^vv><<v^<>><>>><<vvv<^v<^<<<>v^v>vv>v<<<^v^^>vv^^>vv^<>>^^<>vvv>v><<^v<v>>v^<^v>^>>>^>>^^^vv^>^>^>^v<>^v^vv^<<^<>>v>vv<^>>>vv<^^^v^v<^<^v<<vv>>><<<<<<>^>><^>^><>^<v<><<<^^>^<>^v^>v>^<>^^^<>v<>v^^v<>><v^<v<>vvv<^vvv<^^^^<^><>v<v<<<v<<vvv>^^^<<^v>^>v^v>^>^^vv>^v^>>^<<<v<<><^>v^>^>vv^^<>vv^<vvv^<><^^<v<<^<^vv>^^^>>v>^v<v<<>><>^vv>>^<^<<<v^><v^>^>^<>v>^>v>>v>v^v<^<^>vv^><<v<><v^<><>^^^v^>^<>^<v<^>>^^v<v<^>v<<>>^^>>^v^<^>v^>>^v<><v<^^^^<v>>v^^>vvv><v^>v>^>v^>^><><^v^<v<>v^<^^^^>v>^^^>^^>vv<><v>>^<><<<<<vv^>^v>v<>>v>>\n",
      ">^^<>>v^>vvv<><v^<vv>>v<<<vv<v<>>>v<>v<<>^^<^v>><v^^vv>vv^v<v<^>><><v>vv<vv>^^>v>vvv^^v^^>v^^^<<v<>>^<v>^<<<^>^>><<<><><v<v>>><v^<v<v^v><>^>>^v^>><^<<^<^><>>>><v^>>><>v<>>vv><><^v>>v<<>vv<>v^>>>><><<><^^v<^>v>v^<>>>^<^v^v^>>vvvv>v>vvvvv^v<><>^<<^><<><<^vv>^^v<>vv^><v<>^<v<v><^<v>v^><vv<vvvvvvv^><<<^^<v>^><><<<vv<<^^^^>v<^>v^^<^>>^>^^^v^^^vvv^^v>^v>v^>><><<^^>>v^<>^<^>^vv^^^v>v><<><^v>v^>^v<v^vv>^<^<<<^^<^vv^<v>^^v^<<v><>^<<>^>^>vv^^v<v<v^vv^^v>^<^v>>^<^v^>v^^<<<>v>v>v<v><>v^>v>><v^^^^v^v<>><><>>>v^v>^><^<v<vv>>^v^v>><<<<<^<>v>v>v>>>>^>vvv><>v><v^<v<>>vv^^><<>>>^<^v>^<<^>v<>v^vv^>^<v^>v<v<<<^v>v<^<^v>^>>vv>><<>^<<v<^v^<<>><^v>vv>^>><<^^>vvv><>>vv>^<<^v^^v^<^v><vv<vv^v^<<<^>v^^v><^v<>^vv<^>>v<<><vv^vv>>vvv^<^<v^v^v>^v^>^^v^^>v^><^^>v>^^>v<^vvv^^>>^<><<v^v^>vv>><^vv^><^v>vvv><<<v^<v>v^<<>v<v<v><>vvvv<<^vvv<<vvv<vv>^v>>>v^>^v><^><^<^>^vv>>^<v<<>>>^vv>><v<^<vv<^<v<^vvvv<^<><><^>^v>^^v>>^>vv<<<v><>>v^v<<vvv>v<>vv>v<v<>v<^<^v^v>>>^<^^^><<>^>v^^v<>^>vv<^^>>v^^v^v<v^>^v^v<^>v^vv><<><><<vv<v<vv>\n"
     ]
    }
   ],
   "source": [
    "# Daily Workflow\n",
    "from pathlib import Path\n",
    "from datetime import datetime\n",
    "\n",
    "# Dynamic Day and Year\n",
    "now = datetime.utcnow()\n",
    "DAY = now.day\n",
    "YEAR = now.year\n",
    "\n",
    "# Fetch input\n",
    "fetch_input(DAY, YEAR)\n",
    "\n",
    "# Read input\n",
    "input_data = read_input(DAY)"
   ]
  },
  {
   "cell_type": "markdown",
   "metadata": {
    "id": "Ym4xybQYqf1U"
   },
   "source": [
    "# Day 1"
   ]
  },
  {
   "cell_type": "code",
   "execution_count": null,
   "metadata": {
    "id": "2AfeWkFMpfJ3"
   },
   "outputs": [],
   "source": [
    "lefts = []\n",
    "rights = []\n",
    "for line in input_data.split(\"\\n\"):\n",
    "  left, right = line.strip().split()\n",
    "  lefts.append(int(left))\n",
    "  rights.append(int(right))"
   ]
  },
  {
   "cell_type": "code",
   "execution_count": null,
   "metadata": {
    "colab": {
     "base_uri": "https://localhost:8080/"
    },
    "id": "bix4DhJUluRm",
    "outputId": "425a4222-2089-4784-98bb-d9bbb06cd22b"
   },
   "outputs": [],
   "source": [
    "def get_total_distance(lefts, rights):\n",
    "  total_distance = 0\n",
    "  for left, right in zip(lefts, rights):\n",
    "    total_distance += abs(left - right)\n",
    "  return total_distance\n",
    "\n",
    "get_total_distance(sorted(lefts), sorted(rights))"
   ]
  },
  {
   "cell_type": "code",
   "execution_count": null,
   "metadata": {
    "colab": {
     "base_uri": "https://localhost:8080/"
    },
    "id": "fK4_Wa6mnYjP",
    "outputId": "84ea1162-aea3-4dee-c5f7-5e9f1569179f"
   },
   "outputs": [],
   "source": [
    "def get_similarity_score(lefts, rights):\n",
    "  from collections import Counter\n",
    "  similarity = 0\n",
    "  right_counts = Counter(rights)\n",
    "  for left in lefts:\n",
    "    if left in right_counts:\n",
    "      similarity += left * right_counts[left]\n",
    "  return similarity\n",
    "\n",
    "get_similarity_score(lefts, rights)"
   ]
  },
  {
   "cell_type": "markdown",
   "metadata": {},
   "source": [
    "# Day 2"
   ]
  },
  {
   "cell_type": "code",
   "execution_count": null,
   "metadata": {
    "id": "jXGnFOMmqmtm"
   },
   "outputs": [],
   "source": [
    "def is_safe(report):\n",
    "    sign = 1\n",
    "    if report[1] < report[0]:\n",
    "        sign = -1\n",
    "\n",
    "    for i in range(1, len(report)):\n",
    "        diff = report[i] - report[i - 1]\n",
    "        if sign * diff < 0 or not 1 <= abs(diff) <= 3:\n",
    "            return False  \n",
    "    return True"
   ]
  },
  {
   "cell_type": "code",
   "execution_count": null,
   "metadata": {},
   "outputs": [],
   "source": [
    "total_safe = 0\n",
    "for line in input_data.split(\"\\n\"):\n",
    "    check = is_safe(list(map(int, line.split())))\n",
    "    total_safe += check\n",
    "\n",
    "total_safe"
   ]
  },
  {
   "cell_type": "code",
   "execution_count": null,
   "metadata": {},
   "outputs": [],
   "source": [
    "total_safe2 = 0\n",
    "for line in input_data.split(\"\\n\"):\n",
    "    report = list(map(int, line.split()))\n",
    "    for i in range(len(report)):\n",
    "        first_half = report[:i] if i > 0 else []\n",
    "        second_half = report[i + 1:] if i < len(report) - 1 else []\n",
    "        check = is_safe(first_half + second_half)\n",
    "        if check:\n",
    "            total_safe2 += 1\n",
    "            break\n",
    "\n",
    "total_safe2"
   ]
  },
  {
   "cell_type": "markdown",
   "metadata": {},
   "source": [
    "# Day 3"
   ]
  },
  {
   "cell_type": "code",
   "execution_count": null,
   "metadata": {},
   "outputs": [],
   "source": [
    "import re\n",
    "pattern = r\"mul\\(\\d+,\\d+\\)\"\n",
    "matches = re.findall(pattern, input_data)\n",
    "\n",
    "total = 0\n",
    "for match in matches:\n",
    "    num1, num2 = map(int, match.strip(\"mul()\").split(\",\"))\n",
    "    total += num1 * num2\n",
    "total"
   ]
  },
  {
   "cell_type": "code",
   "execution_count": null,
   "metadata": {},
   "outputs": [],
   "source": [
    "import re\n",
    "pattern = r\"mul\\(\\d+,\\d+\\)|do\\(\\)|don't\\(\\)\"\n",
    "matches = re.findall(pattern, input_data)\n",
    "\n",
    "total = 0\n",
    "do = 1\n",
    "for match in matches:\n",
    "    if match == \"do()\":\n",
    "        do = 1\n",
    "    elif match == \"don't()\":\n",
    "        do = 0\n",
    "    else:\n",
    "        num1, num2 = map(int, match.strip(\"mul()\").split(\",\"))\n",
    "        total += num1 * num2 * do\n",
    "total"
   ]
  },
  {
   "cell_type": "markdown",
   "metadata": {},
   "source": [
    "# Day 4"
   ]
  },
  {
   "cell_type": "code",
   "execution_count": null,
   "metadata": {},
   "outputs": [],
   "source": [
    "grid = []\n",
    "for line in input_data.split(\"\\n\"):\n",
    "    grid.append(list(line))\n",
    "m, n = len(grid), len(grid[0])"
   ]
  },
  {
   "cell_type": "code",
   "execution_count": null,
   "metadata": {},
   "outputs": [],
   "source": [
    "def dfs(curr, x, y, dx, dy):\n",
    "    if curr == \"XMAS\":\n",
    "        return 1\n",
    "    if not (0 <= x < m and 0 <= y < n):\n",
    "        return 0\n",
    "    if len(curr) > 4:\n",
    "        return 0\n",
    "    curr += grid[x][y]\n",
    "    return dfs(curr, x + dx, y + dy, dx, dy)"
   ]
  },
  {
   "cell_type": "code",
   "execution_count": null,
   "metadata": {},
   "outputs": [],
   "source": [
    "result = 0\n",
    "for i in range(m):\n",
    "    for j in range(n):\n",
    "        if grid[i][j] == \"X\":\n",
    "            for di, dj in [(-1, 0), (0, 1), (1, 0), (0, -1), (-1, 1), (1, 1), (1, -1), (-1, -1)]:\n",
    "                result += dfs(\"\", i, j, di, dj)\n",
    "\n",
    "result"
   ]
  },
  {
   "cell_type": "code",
   "execution_count": null,
   "metadata": {},
   "outputs": [],
   "source": [
    "result = 0\n",
    "patterns = [\"MAS\", \"SAM\"]\n",
    "for i in range(1, m - 1):\n",
    "    for j in range(1, n - 1):\n",
    "        if grid[i][j] == \"A\":\n",
    "            diagonal1 = grid[i - 1][j - 1] + grid[i][j] + grid[i + 1][j + 1]\n",
    "            diagonal2 = grid[i + 1][j - 1] + grid[i][j] + grid[i - 1][j + 1]\n",
    "            # print(i, j, diagonal1, diagonal2)\n",
    "            if diagonal1 in patterns and diagonal2 in patterns:\n",
    "                result += 1\n",
    "result"
   ]
  },
  {
   "cell_type": "markdown",
   "metadata": {},
   "source": [
    "# Day 5"
   ]
  },
  {
   "cell_type": "code",
   "execution_count": null,
   "metadata": {},
   "outputs": [],
   "source": [
    "def get_right_order(graph, degree):\n",
    "    from collections import deque\n",
    "    q = deque()\n",
    "    for u, d in degree.items():\n",
    "        if d == 0:\n",
    "            q.append(u)\n",
    "    right_order = []\n",
    "    while q:\n",
    "        node = q.popleft()\n",
    "        right_order.append(node)\n",
    "        for v in graph[node]:\n",
    "            degree[v] -= 1\n",
    "            if degree[v] == 0:\n",
    "                q.append(v)\n",
    "                \n",
    "    return right_order"
   ]
  },
  {
   "cell_type": "code",
   "execution_count": null,
   "metadata": {},
   "outputs": [],
   "source": [
    "from collections import defaultdict\n",
    "\n",
    "rules = defaultdict(set)\n",
    "updates = []\n",
    "\n",
    "for line in input_data.split(\"\\n\"):\n",
    "    if line == '':\n",
    "        continue \n",
    "    if '|' in line:\n",
    "        u, v = line.split('|')\n",
    "        rules[u].add(v)\n",
    "    else:\n",
    "        updates.append(line.split(','))\n",
    "\n",
    "print(rules, updates)"
   ]
  },
  {
   "cell_type": "code",
   "execution_count": null,
   "metadata": {},
   "outputs": [],
   "source": [
    "result1 = 0\n",
    "result2 = 0\n",
    "for update in updates:\n",
    "    degree = {u: 0 for u in update} \n",
    "    graph = defaultdict(set)\n",
    "\n",
    "    for u in update:\n",
    "        graph[u] = rules[u] & set(update)\n",
    "        for v in graph[u]:\n",
    "            degree[v] += 1\n",
    "    right_order = get_right_order(graph, degree)\n",
    "    if right_order == update:\n",
    "        result1 += int(right_order[(len(update) - 1) // 2])\n",
    "    else:\n",
    "        result2 += int(right_order[(len(update) - 1) // 2])\n",
    "    \n",
    "result1, result2"
   ]
  },
  {
   "cell_type": "markdown",
   "metadata": {},
   "source": [
    "# Day 6"
   ]
  },
  {
   "cell_type": "code",
   "execution_count": null,
   "metadata": {},
   "outputs": [],
   "source": [
    "grid = []\n",
    "for line in input_data.split(\"\\n\"):\n",
    "    grid.append(list(line))\n",
    "\n",
    "m, n = len(grid), len(grid[0])\n",
    "start = None\n",
    "directions = [(-1, 0), (0, 1), (1, 0), (0, -1)]\n",
    "for i in range(m):\n",
    "    for j in range(n):\n",
    "        if grid[i][j] == '^':\n",
    "            start = (i, j)\n",
    "            break\n",
    "    if start is not None:\n",
    "        break"
   ]
  },
  {
   "cell_type": "code",
   "execution_count": null,
   "metadata": {},
   "outputs": [],
   "source": [
    "def travel(x, y, d_idx, path):\n",
    "    while True:\n",
    "        path.add((x, y))\n",
    "        dx, dy = directions[d_idx]\n",
    "        nx, ny = x + dx, y + dy \n",
    "        if not (0 <= nx < m and 0 <= ny < n):\n",
    "            break \n",
    "        if grid[nx][ny] == '#':\n",
    "            d_idx = (d_idx + 1) % 4\n",
    "        else:\n",
    "            x, y = nx, ny"
   ]
  },
  {
   "cell_type": "code",
   "execution_count": null,
   "metadata": {},
   "outputs": [],
   "source": [
    "path = set()\n",
    "travel(start[0], start[1], 0, path)\n",
    "print(len(path))"
   ]
  },
  {
   "cell_type": "code",
   "execution_count": null,
   "metadata": {},
   "outputs": [],
   "source": [
    "def simulate(x, y):\n",
    "    vis = set()\n",
    "    d_idx = 0\n",
    "    while True:\n",
    "        if (x, y, d_idx) in vis:\n",
    "            return True\n",
    "        vis.add((x, y, d_idx))\n",
    "\n",
    "        dx, dy = directions[d_idx]\n",
    "        nx, ny = x + dx, y + dy \n",
    "\n",
    "        if not (0 <= nx < m and 0 <= ny < n):\n",
    "            break \n",
    "\n",
    "        if grid[nx][ny] == '#':\n",
    "            d_idx = (d_idx + 1) % 4\n",
    "        else:\n",
    "            x, y = nx, ny\n",
    "    \n",
    "    return False\n",
    "\n",
    "x, y = start\n",
    "count = 0\n",
    "for i, j in path:\n",
    "    grid[i][j] = '#'\n",
    "    count += simulate(x, y)\n",
    "    grid[i][j] = '.'\n",
    "\n",
    "count"
   ]
  },
  {
   "cell_type": "markdown",
   "metadata": {},
   "source": [
    "# Day 7"
   ]
  },
  {
   "cell_type": "code",
   "execution_count": null,
   "metadata": {},
   "outputs": [],
   "source": [
    "tests = []\n",
    "\n",
    "for line in input_data.split(\"\\n\"):\n",
    "    test, nums = line.split(\":\")\n",
    "    tests.append([ int(test), list(map(int, nums.split()))])\n",
    "\n",
    "print(tests)"
   ]
  },
  {
   "cell_type": "code",
   "execution_count": 17,
   "metadata": {},
   "outputs": [],
   "source": [
    "def form_equations(i, nums, equation, equations):\n",
    "  if i == len(nums):\n",
    "    equation.pop()\n",
    "    equations.add(tuple(equation[:]))\n",
    "    equation = []\n",
    "    return\n",
    "  equation.append(nums[i])\n",
    "  form_equations(i + 1, nums, equation + ['*'], equations)\n",
    "  form_equations(i + 1, nums, equation + ['+'], equations)\n",
    "  form_equations(i + 1, nums, equation + ['|'], equations)"
   ]
  },
  {
   "cell_type": "code",
   "execution_count": 18,
   "metadata": {},
   "outputs": [],
   "source": [
    "def solve_equation(equation):\n",
    "    result = equation[0]\n",
    "    for i in range(1, len(equation), 2):\n",
    "        operator = equation[i]\n",
    "        operand = equation[i + 1]\n",
    "        if operator == '*':\n",
    "            result *= operand\n",
    "        elif operator == '+':\n",
    "            result += operand\n",
    "        elif operator == '|':\n",
    "            result = int(str(result) + str(operand))\n",
    "    return result"
   ]
  },
  {
   "cell_type": "code",
   "execution_count": null,
   "metadata": {},
   "outputs": [],
   "source": [
    "result = 0\n",
    "for test, nums in tests:\n",
    "    equations = set()\n",
    "    form_equations(0, nums, [], equations)\n",
    "    for equation in equations:\n",
    "        if solve_equation(equation) == test:\n",
    "            result += test\n",
    "            break\n",
    "result"
   ]
  },
  {
   "cell_type": "markdown",
   "metadata": {},
   "source": [
    "# Day 8"
   ]
  },
  {
   "cell_type": "code",
   "execution_count": 48,
   "metadata": {},
   "outputs": [],
   "source": [
    "grid = []\n",
    "for line in input_data.split('\\n'):\n",
    "    grid.append(list(line))\n",
    "\n",
    "m = len(grid)\n",
    "n = len(grid[0])"
   ]
  },
  {
   "cell_type": "code",
   "execution_count": 49,
   "metadata": {},
   "outputs": [],
   "source": [
    "from collections import defaultdict\n",
    "\n",
    "antennas = defaultdict(list)\n",
    "for i in range(m):\n",
    "    for j in range(n):\n",
    "        if grid[i][j] != '.':\n",
    "            antennas[grid[i][j]].append((i, j))"
   ]
  },
  {
   "cell_type": "code",
   "execution_count": null,
   "metadata": {},
   "outputs": [],
   "source": [
    "antinodes = set()\n",
    "\n",
    "for signal, positions in antennas.items():\n",
    "    if len(positions) > 1:\n",
    "        for i in range(len(positions)):\n",
    "            for j in range(i + 1, len(positions)):\n",
    "                x1, y1 = positions[i]\n",
    "                x2, y2 = positions[j]\n",
    "                x3, y3 = x2 + (x2 - x1), y2 + (y2 - y1)\n",
    "                x4, y4 = x1 - (x2 - x1), y1 - (y2 - y1)\n",
    "                if 0 <= x3 < m and 0 <= y3 < n:\n",
    "                    antinodes.add((x3, y3))\n",
    "                if 0 <= x4 < m and 0 <= y4 < n:\n",
    "                    antinodes.add((x4, y4))\n",
    "\n",
    "len(antinodes)"
   ]
  },
  {
   "cell_type": "code",
   "execution_count": null,
   "metadata": {},
   "outputs": [],
   "source": [
    "def extend_line(x1, y1, x2, y2):\n",
    "    from math import gcd\n",
    "\n",
    "    points = set()\n",
    "    dx = x2 - x1\n",
    "    dy = y2 - y1\n",
    "\n",
    "    g = gcd(dx, dy)\n",
    "    step_x = dx // g\n",
    "    step_y = dy // g\n",
    "\n",
    "    x, y = x2, y2\n",
    "    while 0 <= x < m and 0 <= y < n:\n",
    "        points.add((x, y))\n",
    "        x += step_x\n",
    "        y += step_y\n",
    "\n",
    "    x, y = x1, y1\n",
    "    while 0 <= x < m and 0 <= y < n:\n",
    "        points.add((x, y))\n",
    "        x -= step_x\n",
    "        y -= step_y\n",
    "\n",
    "    return points\n"
   ]
  },
  {
   "cell_type": "code",
   "execution_count": null,
   "metadata": {},
   "outputs": [],
   "source": [
    "antinodes = set()\n",
    "\n",
    "for signal, positions in antennas.items():\n",
    "    if len(positions) > 1:\n",
    "        for i in range(len(positions)):\n",
    "            for j in range(i + 1, len(positions)):\n",
    "                x1, y1 = positions[i]\n",
    "                x2, y2 = positions[j]\n",
    "                line_points = extend_line(x1, y1, x2, y2)\n",
    "                antinodes.update(line_points)\n",
    "\n",
    "len(antinodes)"
   ]
  },
  {
   "cell_type": "markdown",
   "metadata": {},
   "source": [
    "# Day 9"
   ]
  },
  {
   "cell_type": "code",
   "execution_count": null,
   "metadata": {},
   "outputs": [],
   "source": [
    "disk_map = list(map(int, list(input_data)))\n",
    "\n",
    "print(disk_map)"
   ]
  },
  {
   "cell_type": "code",
   "execution_count": null,
   "metadata": {},
   "outputs": [],
   "source": [
    "block = []\n",
    "id = 0\n",
    "for i in range(0, len(disk_map), 2):\n",
    "    file_block = disk_map[i] * [id]\n",
    "    free_block = disk_map[i + 1] * ['.'] if i + 1 < len(disk_map) else []\n",
    "    block.extend(file_block + free_block)\n",
    "    id += 1\n",
    "\n",
    "print(block)"
   ]
  },
  {
   "cell_type": "code",
   "execution_count": null,
   "metadata": {},
   "outputs": [],
   "source": [
    "i, j = 0, len(block) - 1\n",
    "while i < j:\n",
    "    # print(i, j)\n",
    "    while i < j and block[i] != '.':\n",
    "        i += 1\n",
    "    while i < j and block[j] == '.':\n",
    "        j -= 1\n",
    "    block[i], block[j] = block[j], block[i]\n",
    "    i += 1\n",
    "    j += 1\n",
    "\n",
    "print(block)"
   ]
  },
  {
   "cell_type": "code",
   "execution_count": null,
   "metadata": {},
   "outputs": [],
   "source": [
    "id = 0\n",
    "checksum = 0\n",
    "for x in block:\n",
    "    if x == '.':\n",
    "        break\n",
    "    checksum += x * id\n",
    "    id += 1\n",
    "print(checksum)"
   ]
  },
  {
   "cell_type": "code",
   "execution_count": null,
   "metadata": {},
   "outputs": [],
   "source": [
    "def find_free_spans(block, end_index):\n",
    "    free_spans = []\n",
    "    start = None\n",
    "    for i in range(end_index):\n",
    "        if block[i] == '.':\n",
    "            if start is None:\n",
    "                start = i\n",
    "        else:\n",
    "            if start is not None:\n",
    "                free_spans.append((start, i - 1))\n",
    "                start = None\n",
    "    if start is not None:\n",
    "        free_spans.append((start, end_index - 1))\n",
    "    return free_spans\n",
    "\n",
    "def move_files(block):\n",
    "    max_id = max(b for b in block if b != '.')  \n",
    "    for file_id in range(max_id, -1, -1): \n",
    "        file_indices = [i for i, b in enumerate(block) if b == file_id]\n",
    "        if not file_indices:\n",
    "            continue  \n",
    "        file_start = file_indices[0]\n",
    "        file_length = len(file_indices)\n",
    "        # print(file_id, file_indices)\n",
    "        free_spans = find_free_spans(block, file_start)\n",
    "        for start, end in free_spans:\n",
    "            if end - start + 1 >= file_length:\n",
    "                block[start:start + file_length] = [file_id] * file_length\n",
    "                for i in file_indices:\n",
    "                    block[i] = '.'\n",
    "                break\n",
    "        # print(block)\n",
    "    return block\n",
    "\n",
    "print(move_files(block))"
   ]
  },
  {
   "cell_type": "code",
   "execution_count": null,
   "metadata": {},
   "outputs": [],
   "source": [
    "id = 0\n",
    "checksum = 0\n",
    "for x in block:\n",
    "    if x != '.':\n",
    "        checksum += id * x \n",
    "    id += 1\n",
    "\n",
    "print(checksum)"
   ]
  },
  {
   "cell_type": "markdown",
   "metadata": {},
   "source": [
    "# Day 10"
   ]
  },
  {
   "cell_type": "code",
   "execution_count": 62,
   "metadata": {},
   "outputs": [],
   "source": [
    "grid = []\n",
    "for line in input_data.split(\"\\n\"):\n",
    "    grid.append(list(map(int, list(line))))\n",
    "\n",
    "ROWS = len(grid)\n",
    "COLS = len(grid[0])"
   ]
  },
  {
   "cell_type": "code",
   "execution_count": 64,
   "metadata": {},
   "outputs": [],
   "source": [
    "def find_unique_destinations(x, y, prev, visited, destinations):\n",
    "    if not ( 0 <= x < ROWS and 0 <= y < COLS):\n",
    "        return\n",
    "    if (x, y) in visited:\n",
    "        return\n",
    "    if grid[x][y] != prev + 1:\n",
    "        return\n",
    "    if grid[x][y] == 9:\n",
    "        # print(x, y)\n",
    "        destinations.add((x, y))\n",
    "    \n",
    "    visited.add((x, y))\n",
    "    for dx, dy in [(0, 1), (1, 0), (0, -1), (-1, 0)]:\n",
    "        find_unique_destinations(x + dx, y + dy, grid[x][y], visited, destinations)"
   ]
  },
  {
   "cell_type": "code",
   "execution_count": null,
   "metadata": {},
   "outputs": [],
   "source": [
    "total_score = 0\n",
    "for r in range(ROWS):\n",
    "    for c in range(COLS):\n",
    "        if grid[r][c] == 0:\n",
    "            destinations = set()\n",
    "            find_unique_destinations(r, c, -1, set(), destinations)\n",
    "            total_score += len(destinations)\n",
    "\n",
    "print(total_score)"
   ]
  },
  {
   "cell_type": "code",
   "execution_count": 66,
   "metadata": {},
   "outputs": [],
   "source": [
    "def find_rating(x, y, prev):\n",
    "    if not ( 0 <= x < ROWS and 0 <= y < COLS):\n",
    "        return 0 \n",
    "    if grid[x][y] != prev + 1:\n",
    "        return 0\n",
    "    if grid[x][y] == 9:\n",
    "        return 1\n",
    "    \n",
    "    score = 0\n",
    "    for dx, dy in [(0, 1), (1, 0), (0, -1), (-1, 0)]:\n",
    "        score += find_rating(x + dx, y + dy, grid[x][y])\n",
    "\n",
    "    return score"
   ]
  },
  {
   "cell_type": "code",
   "execution_count": null,
   "metadata": {},
   "outputs": [],
   "source": [
    "total_rating = 0\n",
    "for r in range(ROWS):\n",
    "    for c in range(COLS):\n",
    "        if grid[r][c] == 0:\n",
    "            rating = find_rating(r, c, -1)\n",
    "            total_rating += rating\n",
    "\n",
    "print(total_rating)"
   ]
  },
  {
   "cell_type": "markdown",
   "metadata": {},
   "source": [
    "# Day 11\n"
   ]
  },
  {
   "cell_type": "code",
   "execution_count": null,
   "metadata": {},
   "outputs": [],
   "source": [
    "stones = input_data.strip().split()\n",
    "stones"
   ]
  },
  {
   "cell_type": "code",
   "execution_count": null,
   "metadata": {},
   "outputs": [],
   "source": [
    "for _ in range(25):\n",
    "    new_stones = []\n",
    "    for stone in stones:\n",
    "        n = len(stone)\n",
    "        if stone == '0':\n",
    "            new_stones.append('1')\n",
    "        elif n & 1 == 0:\n",
    "            new_stones.append(stone[:n // 2].lstrip('0') or '0')\n",
    "            new_stones.append(stone[n // 2:].lstrip('0') or '0')\n",
    "        else:\n",
    "            new_stones.append(str(int(stone) * 2024))\n",
    "    stones = new_stones[:]\n",
    "\n",
    "print(len(stones))"
   ]
  },
  {
   "cell_type": "code",
   "execution_count": null,
   "metadata": {},
   "outputs": [],
   "source": [
    "memo = {}\n",
    "\n",
    "def get_stones(steps, stone):\n",
    "    if (steps, stone) in memo:\n",
    "        return memo[(steps, stone)]\n",
    "    \n",
    "    if steps == 0:\n",
    "        return 1\n",
    "\n",
    "    if stone == '0':\n",
    "        return get_stones(steps - 1, '1')\n",
    "    \n",
    "    n = len(stone)\n",
    "    total = 0\n",
    "    if n & 1 == 0:\n",
    "        left = stone[:n // 2].lstrip('0') or '0'\n",
    "        right = stone[n // 2:].lstrip('0') or '0'\n",
    "        total += get_stones(steps - 1, left)\n",
    "        total += get_stones(steps - 1, right)\n",
    "    else:\n",
    "        total += get_stones(steps - 1, str(int(stone) * 2024))\n",
    "    \n",
    "    memo[(steps, stone)] = total\n",
    "    return total\n",
    "\n",
    "print(sum([get_stones(75, stone) for stone in stones]))"
   ]
  },
  {
   "cell_type": "markdown",
   "metadata": {},
   "source": [
    "# Day 12"
   ]
  },
  {
   "cell_type": "code",
   "execution_count": 77,
   "metadata": {},
   "outputs": [],
   "source": [
    "grid = []\n",
    "for line in input_data.split():\n",
    "    grid.append(list(line))\n",
    "\n",
    "ROWS = len(grid)\n",
    "COLS = len(grid[0])"
   ]
  },
  {
   "cell_type": "code",
   "execution_count": 78,
   "metadata": {},
   "outputs": [],
   "source": [
    "def get_region(type, x, y, region, visited):\n",
    "    if not (0 <= x < ROWS and 0 <= y < COLS and (x, y) and grid[x][y] == type and (x, y) not in visited):\n",
    "        return\n",
    "\n",
    "    region.add((x, y))\n",
    "    visited.add((x, y))\n",
    "    for dx, dy in [(0, 1), (1, 0), (0, -1), (-1, 0)]:\n",
    "        nx, ny = x + dx, y + dy\n",
    "        get_region(type, nx, ny, region, visited)"
   ]
  },
  {
   "cell_type": "code",
   "execution_count": 79,
   "metadata": {},
   "outputs": [],
   "source": [
    "def get_perimeter(type, region):\n",
    "    perimeter = 0\n",
    "    for x, y in region:\n",
    "        for dx, dy in [(0, 1), (1, 0), (0, -1), (-1, 0)]:\n",
    "            nx, ny = x + dx, y + dy\n",
    "            if not (0 <= nx < ROWS and 0 <= ny < COLS and grid[nx][ny] == type):\n",
    "                perimeter += 1\n",
    "    return perimeter"
   ]
  },
  {
   "cell_type": "code",
   "execution_count": 86,
   "metadata": {},
   "outputs": [],
   "source": [
    "def get_perimeter_discount(type, region):\n",
    "    perimeter = 0\n",
    "    side_coordinates = set()\n",
    "    for x, y in region:\n",
    "        for dx, dy in [(0, 1), (1, 0), (0, -1), (-1, 0)]:\n",
    "            nx, ny = x + dx, y + dy\n",
    "            if not (0 <= nx < ROWS and 0 <= ny < COLS and grid[nx][ny] == type):\n",
    "                if dr == -1:  # Top side\n",
    "                    side_coordinates.add((r, c, 'top'))\n",
    "                elif dr == 1:  # Bottom side\n",
    "                    side_coordinates.add((r, c, 'bottom'))\n",
    "                elif dc == -1:  # Left side\n",
    "                    side_coordinates.add((r, c, 'left'))\n",
    "                elif dc == 1:  # Right side\n",
    "                    side_coordinates.add((r, c, 'right'))\n",
    "    return perimeter"
   ]
  },
  {
   "cell_type": "code",
   "execution_count": 81,
   "metadata": {},
   "outputs": [],
   "source": [
    "from collections import defaultdict\n",
    "\n",
    "regions = defaultdict(list)\n",
    "visited = set()\n",
    "for i in range(ROWS):\n",
    "    for j in range(COLS):\n",
    "        if (i, j) not in visited:\n",
    "            region = set()\n",
    "            get_region(grid[i][j], i, j, region, visited)\n",
    "            regions[grid[i][j]].append(region)\n",
    "            "
   ]
  },
  {
   "cell_type": "code",
   "execution_count": null,
   "metadata": {},
   "outputs": [],
   "source": [
    "price = 0\n",
    "for type, regs in regions.items():\n",
    "    for reg in regs:\n",
    "        price += len(reg) * get_perimeter(type, reg)\n",
    "\n",
    "price"
   ]
  },
  {
   "cell_type": "markdown",
   "metadata": {},
   "source": [
    "# Day 13"
   ]
  },
  {
   "cell_type": "code",
   "execution_count": 31,
   "metadata": {},
   "outputs": [],
   "source": [
    "machines = [ machine.split(\"\\n\") for machine in input_data.split(\"\\n\\n\")]"
   ]
  },
  {
   "cell_type": "code",
   "execution_count": null,
   "metadata": {},
   "outputs": [],
   "source": [
    "def parse_line(line):\n",
    "    key, coords = line.split(\": \")\n",
    "    coords_dict = {}\n",
    "    for coord in coords.split(\", \"):\n",
    "        axis, value = coord[0], coord[1:]\n",
    "        coords_dict[axis] = int(value.replace(\"+\", \"\").replace(\"=\", \"\"))\n",
    "    return key.split(\" \")[-1], coords_dict\n",
    "\n",
    "def clean_machines(machines):\n",
    "    cleaned = []\n",
    "    for machine in machines:\n",
    "        machine_dict = {}\n",
    "        for line in machine:\n",
    "            key, coords = parse_line(line)\n",
    "            machine_dict[key] = coords\n",
    "        cleaned.append(machine_dict)\n",
    "    return cleaned\n",
    "\n",
    "machines = clean_machines(machines)\n",
    "\n",
    "machines"
   ]
  },
  {
   "cell_type": "code",
   "execution_count": 33,
   "metadata": {},
   "outputs": [],
   "source": [
    "def press(A, B, Prize, memo=None):\n",
    "    if memo is None:\n",
    "        memo = {}\n",
    "\n",
    "    if (Prize['X'], Prize['Y']) in memo:\n",
    "        return memo[(Prize['X'], Prize['Y'])]\n",
    "    if Prize['X'] == 0 and Prize['Y'] == 0:\n",
    "        return 0\n",
    "    if Prize['X'] < 0 or Prize['Y'] < 0:\n",
    "        return float(\"inf\")\n",
    "\n",
    "    prize1 = {'X': Prize['X'] - A['X'], 'Y': Prize['Y'] - A['Y']}\n",
    "    prize2 = {'X': Prize['X'] - B['X'], 'Y': Prize['Y'] - B['Y']}\n",
    "\n",
    "    result = min(press(A, B, prize1, memo) + 3, press(A, B, prize2, memo) + 1)\n",
    "    memo[(Prize['X'], Prize['Y'])] = result\n",
    "\n",
    "    return result\n"
   ]
  },
  {
   "cell_type": "code",
   "execution_count": null,
   "metadata": {},
   "outputs": [],
   "source": [
    "total_tokens = 0\n",
    "for machine in machines:\n",
    "    tokens = press(**machine)\n",
    "    # print(tokens)\n",
    "    if tokens != float(\"inf\"):\n",
    "        total_tokens += tokens\n",
    "\n",
    "print(total_tokens)"
   ]
  },
  {
   "cell_type": "code",
   "execution_count": 35,
   "metadata": {},
   "outputs": [],
   "source": [
    "import numpy as np\n",
    "\n",
    "def press_optimised(A, B, Prize):\n",
    "    button_matrix = np.array([\n",
    "        [A['X'], B['X']],\n",
    "        [A['Y'], B['Y']]\n",
    "    ])\n",
    "    prize_vector = np.array([Prize['X'], Prize['Y']])\n",
    "\n",
    "    try:\n",
    "        solution = np.linalg.solve(button_matrix, prize_vector)\n",
    "\n",
    "        n_A, n_B = map(round, solution)\n",
    "\n",
    "        reconstructed = np.dot(button_matrix, [n_A, n_B])\n",
    "        if not np.array_equal(reconstructed, prize_vector):\n",
    "            return float(\"inf\") \n",
    "\n",
    "        return 3 * n_A + n_B\n",
    "\n",
    "    except np.linalg.LinAlgError:\n",
    "        return float(\"inf\")"
   ]
  },
  {
   "cell_type": "code",
   "execution_count": null,
   "metadata": {},
   "outputs": [],
   "source": [
    "total_tokens = 0\n",
    "for machine in machines:\n",
    "    modified_machine = machine.copy()\n",
    "    modified_machine['Prize']['X'] += 10000000000000\n",
    "    modified_machine['Prize']['Y'] += 10000000000000\n",
    "    tokens = press_optimised(**modified_machine)\n",
    "    # print(tokens)\n",
    "    if tokens != float(\"inf\"):\n",
    "        total_tokens += tokens\n",
    "\n",
    "print(total_tokens)"
   ]
  },
  {
   "cell_type": "markdown",
   "metadata": {},
   "source": [
    "# Day 14"
   ]
  },
  {
   "cell_type": "code",
   "execution_count": 27,
   "metadata": {},
   "outputs": [],
   "source": [
    "robots = []\n",
    "for line in input_data.strip().split('\\n'):\n",
    "    pos_str, vel_str = line.split()\n",
    "    x = int(pos_str.split('=')[1].split(',')[0])\n",
    "    y = int(pos_str.split('=')[1].split(',')[1])\n",
    "    vx = int(vel_str.split('=')[1].split(',')[0])\n",
    "    vy = int(vel_str.split('=')[1].split(',')[1])\n",
    "    robots.append((x, y, vx, vy))"
   ]
  },
  {
   "cell_type": "code",
   "execution_count": 20,
   "metadata": {},
   "outputs": [],
   "source": [
    "def calculate_position(x, y, vx, vy, time, width, height):\n",
    "    new_x = (x + vx * time) % width\n",
    "    new_y = (y + vy * time) % height\n",
    "    return (int(new_x), int(new_y))"
   ]
  },
  {
   "cell_type": "code",
   "execution_count": null,
   "metadata": {},
   "outputs": [],
   "source": [
    "width = 101\n",
    "height = 103\n",
    "time = 100\n",
    "\n",
    "quadrants = [0, 0, 0, 0] \n",
    "    \n",
    "for x, y, vx, vy in robots:\n",
    "    final_x, final_y = calculate_position(x, y, vx, vy, time, width, height)\n",
    "    \n",
    "    if final_x == width // 2 or final_y == height // 2:\n",
    "        continue\n",
    "    \n",
    "    if final_x < width // 2 and final_y < height // 2:\n",
    "        quadrants[0] += 1\n",
    "    elif final_x >= width // 2 and final_y < height // 2:\n",
    "        quadrants[1] += 1\n",
    "    elif final_x < width // 2 and final_y >= height // 2:\n",
    "        quadrants[2] += 1\n",
    "    else:\n",
    "        quadrants[3] += 1\n",
    "\n",
    "print(quadrants)"
   ]
  },
  {
   "cell_type": "code",
   "execution_count": null,
   "metadata": {},
   "outputs": [],
   "source": [
    "safety_factor = 1\n",
    "for count in quadrants:\n",
    "    safety_factor *= count\n",
    "\n",
    "print(safety_factor)"
   ]
  },
  {
   "cell_type": "code",
   "execution_count": null,
   "metadata": {},
   "outputs": [],
   "source": [
    "for time in range(1, 10000):\n",
    "    positions = [\n",
    "            calculate_position(x, y, vx, vy, time, width, height)\n",
    "            for x, y, vx, vy in robots\n",
    "        ]\n",
    "        \n",
    "    if len(set(positions)) != len(positions):\n",
    "        continue \n",
    "\n",
    "    grid = [['.'] * width for _ in range(height)]\n",
    "\n",
    "    for x, y in positions:\n",
    "        grid[y][x] = 'R'\n",
    "\n",
    "    print(time)\n",
    "    for row in grid:\n",
    "        print(''.join(row))\n",
    "    \n",
    "    print(\"\\n\\n\")"
   ]
  },
  {
   "cell_type": "markdown",
   "metadata": {},
   "source": [
    "# Day 15"
   ]
  },
  {
   "cell_type": "code",
   "execution_count": 20,
   "metadata": {},
   "outputs": [
    {
     "name": "stdout",
     "output_type": "stream",
     "text": [
      "Content of Day 15 input:\n",
      "#######\n",
      "#...#.#\n",
      "#.....#\n",
      "#..OO@#\n",
      "#..O..#\n",
      "#.....#\n",
      "#######\n",
      "\n",
      "<vv<<^^<<^^\n"
     ]
    }
   ],
   "source": [
    "input_data = read_input(15)"
   ]
  },
  {
   "cell_type": "code",
   "execution_count": 21,
   "metadata": {},
   "outputs": [],
   "source": [
    "def print_grid(grid, robot_pos, boxes, move=None, move_number=None):\n",
    "    display_grid = [row.copy() for row in grid]\n",
    "    \n",
    "    display_grid[robot_pos[1]][robot_pos[0]] = '@'\n",
    "    for box in boxes:\n",
    "        display_grid[box[1]][box[0]] = 'O'\n",
    "    \n",
    "    if move_number is not None:\n",
    "        print(f\"Move {move_number}: {move}\")\n",
    "    \n",
    "    for row in display_grid:\n",
    "        print(''.join(row))\n",
    "    print(boxes)\n",
    "    print()"
   ]
  },
  {
   "cell_type": "code",
   "execution_count": 36,
   "metadata": {},
   "outputs": [],
   "source": [
    "def print_grid_big(grid, robot_pos, boxes, move=None, move_number=None):\n",
    "    display_grid = [row.copy() for row in grid]\n",
    "    \n",
    "    display_grid[robot_pos[1]][robot_pos[0]] = '@'\n",
    "    for i in range(0, len(boxes), 2):\n",
    "        start = boxes[i]\n",
    "        end = boxes[i + 1]\n",
    "        display_grid[start[1]][start[0]] = '['\n",
    "        display_grid[end[1]][end[0]] = ']'\n",
    "    \n",
    "    if move_number is not None:\n",
    "        print(f\"Move {move_number}: {move}\")\n",
    "    \n",
    "    for row in display_grid:\n",
    "        print(''.join(row))\n",
    "    print(boxes)\n",
    "    print()"
   ]
  },
  {
   "cell_type": "code",
   "execution_count": 37,
   "metadata": {},
   "outputs": [],
   "source": [
    "def parse_map(map_str):\n",
    "    lines = map_str.strip().split('\\n')\n",
    "    map_grid = [list(line) for line in lines]\n",
    "    robot_pos = None\n",
    "    boxes = []\n",
    "    \n",
    "    for y, row in enumerate(map_grid):\n",
    "        for x, cell in enumerate(row):\n",
    "            if cell == '@':\n",
    "                robot_pos = (x, y)\n",
    "                map_grid[y][x] = '.'\n",
    "            elif cell == 'O':\n",
    "                boxes.append((x, y))\n",
    "            elif cell == '[':\n",
    "                boxes.append((x, y))\n",
    "                boxes.append((x + 1, y))\n",
    "    \n",
    "    return map_grid, robot_pos, boxes"
   ]
  },
  {
   "cell_type": "code",
   "execution_count": 24,
   "metadata": {},
   "outputs": [],
   "source": [
    "def is_valid_move(grid, pos):\n",
    "    x, y = pos\n",
    "    return 0 <= x < len(grid[0]) and 0 <= y < len(grid) and grid[y][x] != '#'"
   ]
  },
  {
   "cell_type": "code",
   "execution_count": 25,
   "metadata": {},
   "outputs": [],
   "source": [
    "def can_push_boxes(grid, start_pos, direction, boxes):\n",
    "    dx, dy = direction\n",
    "    x, y = start_pos\n",
    "    \n",
    "    first_box_pos = (x + dx, y + dy)\n",
    "    if first_box_pos not in boxes:\n",
    "        return None\n",
    "\n",
    "    box_chain = [first_box_pos]\n",
    "    current_pos = first_box_pos\n",
    "    \n",
    "    while True:\n",
    "        next_pos = (current_pos[0] + dx, current_pos[1] + dy)\n",
    "        if next_pos in boxes:\n",
    "            box_chain.append(next_pos)\n",
    "            current_pos = next_pos\n",
    "        else:\n",
    "            break\n",
    "    \n",
    "    final_space = (current_pos[0] + dx, current_pos[1] + dy)\n",
    "    if is_valid_move(grid, final_space):\n",
    "        return box_chain\n",
    "    \n",
    "    return None"
   ]
  },
  {
   "cell_type": "code",
   "execution_count": 26,
   "metadata": {},
   "outputs": [],
   "source": [
    "def solve_warehouse(map_str, moves_str):\n",
    "    grid, robot_pos, boxes = parse_map(map_str)\n",
    "    moves = [m for m in moves_str if m in '^v<>']\n",
    "\n",
    "    directions = {\n",
    "        '^': (0, -1),\n",
    "        'v': (0, 1),\n",
    "        '<': (-1, 0),\n",
    "        '>': (1, 0)\n",
    "    }\n",
    "\n",
    "    # print(\"Initial Grid:\")\n",
    "    # print_grid(grid, robot_pos, boxes)\n",
    "\n",
    "    for i, move in enumerate(moves, 1):\n",
    "        dx, dy = directions[move]\n",
    "        new_robot_pos = (robot_pos[0] + dx, robot_pos[1] + dy)\n",
    "\n",
    "        if not is_valid_move(grid, new_robot_pos) and new_robot_pos not in boxes:\n",
    "            # print(f\"Move {i}: {move} - Move blocked by wall\")\n",
    "            continue\n",
    "\n",
    "        if new_robot_pos in boxes:\n",
    "            box_chain = can_push_boxes(grid, robot_pos, (dx, dy), boxes)\n",
    "            if box_chain:\n",
    "                boxes = [box for box in boxes if box not in box_chain]\n",
    "                new_box_positions = [(box[0] + dx, box[1] + dy) for box in box_chain]\n",
    "                boxes.extend(new_box_positions)\n",
    "            else:\n",
    "                # print(f\"Move {i}: {move} - Box cannot be pushed\")\n",
    "                continue\n",
    "\n",
    "        robot_pos = new_robot_pos\n",
    "\n",
    "        # print_grid(grid, robot_pos, boxes, move, i)\n",
    "\n",
    "    gps_coordinates = [100 * y + x for x, y in sorted(set(boxes))]\n",
    "    print(gps_coordinates)\n",
    "    return sum(gps_coordinates)"
   ]
  },
  {
   "cell_type": "code",
   "execution_count": 34,
   "metadata": {},
   "outputs": [
    {
     "name": "stdout",
     "output_type": "stream",
     "text": [
      "[202, 303, 403]\n",
      "908\n"
     ]
    }
   ],
   "source": [
    "map_str, moves_str = input_data.split(\"\\n\\n\")\n",
    "moves = moves_str.replace('\\n', '')\n",
    "print(solve_warehouse(map_str, moves))"
   ]
  }
 ],
 "metadata": {
  "colab": {
   "authorship_tag": "ABX9TyOzlSBGVhe+TBgADJkskLED",
   "provenance": []
  },
  "kernelspec": {
   "display_name": "Python 3",
   "name": "python3"
  },
  "language_info": {
   "codemirror_mode": {
    "name": "ipython",
    "version": 3
   },
   "file_extension": ".py",
   "mimetype": "text/x-python",
   "name": "python",
   "nbconvert_exporter": "python",
   "pygments_lexer": "ipython3",
   "version": "3.12.1"
  }
 },
 "nbformat": 4,
 "nbformat_minor": 0
}
